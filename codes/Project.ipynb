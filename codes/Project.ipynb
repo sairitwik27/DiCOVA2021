{
 "cells": [
  {
   "cell_type": "markdown",
   "metadata": {},
   "source": [
    "### Import Libraries"
   ]
  },
  {
   "cell_type": "code",
   "execution_count": 1,
   "metadata": {},
   "outputs": [],
   "source": [
    "import glob\n",
    "import re\n",
    "import pathlib\n",
    "import os\n",
    "import numpy as np\n",
    "import pandas as pd\n",
    "from sklearn.preprocessing import StandardScaler\n",
    "from sklearn.decomposition import PCA\n",
    "import kaldiio\n",
    "import numpy as np\n",
    "import csv\n",
    "\n",
    "import imblearn\n",
    "import sklearn\n",
    "from sklearn import datasets,metrics\n",
    "from collections import Counter\n",
    "import matplotlib.pyplot as plt\n",
    "from sklearn import svm\n",
    "from sklearn.metrics import confusion_matrix as conf\n",
    "from imblearn.over_sampling import SVMSMOTE,SMOTE\n",
    "from imblearn.under_sampling import RandomUnderSampler\n",
    "from imblearn.pipeline import Pipeline\n",
    "from sklearn.metrics import roc_auc_score"
   ]
  },
  {
   "cell_type": "markdown",
   "metadata": {},
   "source": [
    "### Extract SuperVectors"
   ]
  },
  {
   "cell_type": "code",
   "execution_count": null,
   "metadata": {},
   "outputs": [],
   "source": [
    "def uttspkdict2(FOLDER_PATH,sound_mode):\n",
    "    metadata = pd.read_csv('/home/oem/Desktop/DiCOVA/DiCOVA_Track_2_Release/metadata.csv')\n",
    "    spkrlist = list(metadata['ID'])\n",
    "    spkrlist.sort()\n",
    "    uttspk = {}\n",
    "    for a in range(len(spkrlist)):\n",
    "        uttspk[spkrlist[a]] = str(spkrlist[a])+\"-\"+sound_mode+\".wav\"\n",
    "    return uttspk\n",
    "\n",
    "\n",
    "def writeuttspk2(TEXT_PATH,dictionary,mode):\n",
    "    d_keys = dictionary.keys()\n",
    "    newlines = []\n",
    "    for spkr in d_keys:\n",
    "        utt = dictionary[spkr]\n",
    "        newline = utt + ' ' + spkr        \n",
    "        newlines.append(newline)\n",
    "    if (mode == 'new'):\n",
    "        with open(TEXT_PATH,'w') as f:\n",
    "            f.write(\"\\n\".join(newlines))\n",
    "    elif (mode == 'append'):\n",
    "        with open(TEXT_PATH,'a') as f:\n",
    "            f.write(\"\\n\")\n",
    "            f.write(\"\\n\".join(newlines))\n",
    "    else:\n",
    "        raise ValueError('Mode Not supported')\n",
    "    return \n",
    "\n",
    "def gettext(wavpath,asr,mode):\n",
    "    if(asr == 'aspire'):\n",
    "        if (mode == 'convert'):\n",
    "            text = \"/usr/bin/sox -t wav \" + wavpath + \" -c 1 -b 16 -r 8000 -t wav - |\"\n",
    "        elif(mode == 'direct'):\n",
    "            text = wavpath\n",
    "    elif(asr == 'timit'):\n",
    "        if (mode == 'convert'):\n",
    "            text = \"/home/oem/Desktop/kaldi/egs/timit/s5/../../../tools/sph2pipe_v2.5/sph2pipe -f wav \" + wavpath + \" |\"\n",
    "        elif(mode == 'direct'):\n",
    "            text = wavpath\n",
    "    return text\n",
    "\n",
    "def writescp(spkr,utt,text,dictionary,TEXT_PATH,mode):\n",
    "    d_keys = dictionary.keys()\n",
    "    newlines = []\n",
    "    newline = spkr+'-'+utt + ' ' + text        \n",
    "    newlines.append(newline)\n",
    "    if (mode == 'new'):\n",
    "        with open(TEXT_PATH,'w') as f:\n",
    "            f.write(\"\\n\".join(newlines))\n",
    "    elif (mode == 'append'):\n",
    "        with open(TEXT_PATH,'a') as f:\n",
    "            f.write(\"\\n\")\n",
    "            f.write(\"\\n\".join(newlines))\n",
    "    else:\n",
    "        raise ValueError('Mode Not supported')\n",
    "    return "
   ]
  },
  {
   "cell_type": "markdown",
   "metadata": {},
   "source": [
    "#### Create utt2spk and wav.scp files for aspire"
   ]
  },
  {
   "cell_type": "code",
   "execution_count": null,
   "metadata": {},
   "outputs": [],
   "source": [
    "sound_mode = \"breathing-deep\"\n",
    "FOLDER_PATH = \"/home/oem/Desktop/DiCOVA/Coswara/\"+sound_mode ##Replace with your folder path of audio files\n",
    "sub = [ f.path for f in os.scandir(FOLDER_PATH)]\n",
    "sub.sort()\n",
    "\n",
    "\"\"\"\n",
    "Run this to get utt2spk file for aspire\n",
    "\"\"\"\n",
    "\n",
    "TEXT_PATH = '/home/oem/Desktop/DiCOVA/Coswara/utt2spk' ##Path_to_utt2spk\n",
    "FOLDER_PATH = \"/home/oem/Desktop/DiCOVA/Coswara/\"+sound_mode\n",
    "my_dict = uttspkdict2(FOLDER_PATH,sound_mode)\n",
    "writeuttspk2(TEXT_PATH,my_dict,'append')\n",
    "\n",
    "\n",
    "\"\"\"\n",
    "Run this to get the wavscp file for aspire\n",
    "\"\"\"\n",
    "SCP_PATH = '/home/oem/Desktop/DiCOVA/Coswara/wav.scp'\n",
    "wavpathlist = []\n",
    "my_dict = uttspkdict2(FOLDER_PATH,sound_mode)\n",
    "metadata = pd.read_csv('/home/oem/Desktop/DiCOVA/DiCOVA_Track_2_Release/metadata.csv')\n",
    "spkrlist = list(metadata['ID'])\n",
    "spkrlist.sort()\n",
    "for k in range(len(spkrlist)):\n",
    "    spkr = spkrlist[k]\n",
    "    utt = sound_mode+\".wav\"\n",
    "    print(utt)\n",
    "    print(sub[k])\n",
    "    wavpathlist.append(sub[k])\n",
    "    txt = gettext(wavpathlist[k],'aspire','convert')\n",
    "    if(k==0):\n",
    "        writescp(spkr,utt,txt,my_dict,SCP_PATH,'new')           \n",
    "    else:\n",
    "        writescp(spkr,utt,txt,my_dict,SCP_PATH,'append') "
   ]
  },
  {
   "cell_type": "markdown",
   "metadata": {},
   "source": [
    "#### Format the posteriors files suitable to the next code"
   ]
  },
  {
   "cell_type": "code",
   "execution_count": null,
   "metadata": {},
   "outputs": [],
   "source": [
    "Post = \"/home/oem/Desktop/DiCOVA/posteriors/\"\n",
    "Post_dir = Post+\"counting-normal/\"\n",
    "post_path = \"/home/oem/Desktop/DiCOVA/posteriors/combined/post4.txt\" ##Path to the text file with posteriors of all utterances\n",
    "def modposts(post_path,Post_dir)\n",
    "    with open(post_path) as f:\n",
    "        lines = [line.rstrip() for line in f]\n",
    "    if os.path.isdir(folder):\n",
    "        print(\"Exists\")\n",
    "    else:\n",
    "        print(\"Doesn't exist\")\n",
    "        os.mkdir(Post_dir)\n",
    "\n",
    "    print(len(lines))\n",
    "    for i in range(len(lines)):\n",
    "        x = lines[i]\n",
    "        y = x[:25]+\"post\"\n",
    "        with open(Post_dir+y,'a') as f:\n",
    "            z = x\n",
    "            a = z.replace(\" [\",\",[\")\n",
    "            f.write(a)\n",
    "    return"
   ]
  },
  {
   "cell_type": "markdown",
   "metadata": {},
   "source": [
    "#### Get Posterior matrices for each utterance"
   ]
  },
  {
   "cell_type": "code",
   "execution_count": null,
   "metadata": {},
   "outputs": [],
   "source": [
    "def findphoneindexprob(filename,phone_index):\n",
    "    f0 = open(filename,'r')\n",
    "    array = f0.read().split(',')\n",
    "    arr_indexprob=[]\n",
    "    for i in range (1,len(array)):\n",
    "        s0 = array[i]\n",
    "        if  ' '+str(phone_index) + ' ' in s0:\n",
    "            k=0\n",
    "            start = ' '+str(phone_index)+' '\n",
    "            s = array[i]\n",
    "            p = s.find(start)+len(start)\n",
    "            for space in s[p:]:\n",
    "                if (space == ' '):\n",
    "                    break\n",
    "                k+=1\n",
    "            arr_indexprob += [float(s[s.find(start)+len(start):s.find(start)+len(start)+k])]\n",
    "\n",
    "        else:\n",
    "            arr_indexprob += [0.0]\n",
    "    return arr_indexprob\n",
    "\n",
    "def findphoneprob(filename,phone):\n",
    "    with open(\"phonemap.txt\", 'r') as document:\n",
    "        phonedict = {}\n",
    "        for line in document:\n",
    "            line = line.split()\n",
    "            phonedict[line[0]] = line[1:]\n",
    "    arr_phoneprob = np.zeros(len(findphoneindexprob(filename,200))) #200 is an arbitrary non phone_index\n",
    "    for i in phonedict[phone]:\n",
    "        arr_phoneprob = np.add(findphoneindexprob(filename,i),arr_phoneprob)\n",
    "    return arr_phoneprob\n",
    "\n",
    "def sentenceprob(filename):\n",
    "    f = open(\"phonenames.txt\",'r')\n",
    "    phonenamearray = f.read().split(',')\n",
    "    y = []\n",
    "    for phone in phonenamearray:\n",
    "        y += [findphoneprob(filename,phone)]\n",
    "    y = np.array(y)    \n",
    "    return y.T"
   ]
  },
  {
   "cell_type": "markdown",
   "metadata": {},
   "source": [
    "### Get the First Order statistics"
   ]
  },
  {
   "cell_type": "code",
   "execution_count": null,
   "metadata": {},
   "outputs": [],
   "source": [
    "def fstat(spkr,output_loc,mfcc_data,postprob_data,phoneclass,threshold,start,shift,framelength):\n",
    "    for key in phoneclass:\n",
    "        while ((start+framelength)<=len(mfcc_data)):\n",
    "            mfcc = mfcc_data[start:(start+framelength)]\n",
    "            postprob = postprob_data[start:(start+framelength)]\n",
    "            postprob1 = postprob[:,phoneclass[key]]\n",
    "            if(np.sum(np.sum(postprob1,axis=0)) > threshold):\n",
    "                phonesum = np.sum(postprob1,axis = 0)\n",
    "                for k in range(0,len(phonesum)):\n",
    "                    if (phonesum[k] == 0):\n",
    "                        phonesum[k] = 1e-8\n",
    "                norm = np.divide(postprob1,phonesum)\n",
    "                vector1 = (np.dot(norm.T,mfcc))\n",
    "                vector = vector1.flatten()\n",
    "                np.save(output_loc+key+'/'+spkr+'_'+str(start)+'.npy',vector)                    \n",
    "\n",
    "            start+=shift    \n",
    "    return"
   ]
  },
  {
   "cell_type": "code",
   "execution_count": null,
   "metadata": {},
   "outputs": [],
   "source": [
    "phoneclass = {'full':np.arange(0,39)} ##Get all TIMIT phoneclasses\n",
    "mfcc_dir = '/home/oem/Desktop/DiCOVA/feats/mfccnew/'\n",
    "mfcc = os.listdir(mfcc_dir)\n",
    "mfcc.sort()\n",
    "post_dir = '/home/oem/Desktop/DiCOVA/posteriors/counting-normal/' ##Posteriors Directory \n",
    "post = os.listdir(post_dir)\n",
    "post.sort()\n",
    "output_loc = '/home/oem/Desktop/DiCOVA/stats/' ##Output Location\n",
    "for i in range(len(mfcc)):\n",
    "        mfcc_data = np.load(mfcc_dir+mfcc[i])\n",
    "        postprob_data = sentenceprob(post_dir+post[i])\n",
    "        threshold = 0\n",
    "        start = 0\n",
    "        shift = len(mfcc_data)\n",
    "        framelength = len(mfcc_data)\n",
    "        spkr = post[i][:-5]\n",
    "        fstat(spkr,output_loc,mfcc_data,postprob_data,phoneclass,threshold,start,shift,framelength)"
   ]
  },
  {
   "cell_type": "markdown",
   "metadata": {},
   "source": [
    "#### Get the MFCC files in npy format from the scp file"
   ]
  },
  {
   "cell_type": "code",
   "execution_count": null,
   "metadata": {},
   "outputs": [],
   "source": [
    "PARENT_DIR = \"/home/oem/Desktop/DiCOVA/Coswara\"\n",
    "FOLDER_PATH = \"/home/oem/Desktop/DiCOVA/Coswara/vowel-e_fbank\"\n",
    "with open(FOLDER_PATH+\"/feats.scp\",'r') as f:\n",
    "    for line in f:\n",
    "        (key,rxfile) = line.split(' ')\n",
    "        mfcc = kaldiio.load_mat(rxfile)\n",
    "        mfcc = mfcc.mean(axis=0)\n",
    "        np.save(PARENT_DIR+\"/vowel-e_fbank/fbank_avg/\"+key,mfcc)"
   ]
  },
  {
   "cell_type": "markdown",
   "metadata": {},
   "source": [
    "### Get Lists for Harmonic features (These will be used the MATLAB codes)"
   ]
  },
  {
   "cell_type": "code",
   "execution_count": null,
   "metadata": {},
   "outputs": [],
   "source": [
    "def makelist1(metadata_folder,audio_folder,out_folder,mode):\n",
    "    md = pd.read_csv(metadata_folder+\"metadata.csv\")\n",
    "    audio = os.listdir(audio_folder)\n",
    "    audio.sort()\n",
    "    \n",
    "    ids = md['ID']\n",
    "    line = []\n",
    "    for i in range(len(audio)):\n",
    "        if(ids[i]==audio[i][:8]):\n",
    "            text = ids[i]+\" \"+audio_folder+ids[i]+\"_\"+mode+\".wav\"+\" \"+ out_folder+ids[i]+\"_\"+mode+\"_harm1.txt\"\n",
    "            line.append(text) \n",
    "        else:\n",
    "            break\n",
    "        \n",
    "    return line\n",
    "\n",
    "def makelist2(metadata_folder,harm1_folder,out_folder,mode):\n",
    "    md = pd.read_csv(metadata_folder+\"metadata.csv\")\n",
    "    audio = os.listdir(audio_folder)\n",
    "    audio.sort()\n",
    "    \n",
    "    ids = md['ID']\n",
    "    line = []\n",
    "    for i in range(len(audio)):\n",
    "        if(ids[i]==audio[i][:8]):\n",
    "            text = ids[i]+\" \"+harm1_folder+ids[i]+\"_\"+mode+\"_harm1.txt\"+\" \"+ out_folder+ids[i]+\"_\"+mode+\"_harm2.txt\"\n",
    "            line.append(text) \n",
    "        else:\n",
    "            break\n",
    "        \n",
    "    return line\n",
    "    \n",
    "def createtxt(array,listpath):\n",
    "    with open(listpath, 'w') as f:\n",
    "        for item in array:\n",
    "            f.write(\"%s\\n\" % item)\n"
   ]
  },
  {
   "cell_type": "code",
   "execution_count": null,
   "metadata": {},
   "outputs": [],
   "source": [
    "mode = breathing-deep\n",
    "metadata_folder = \"/home/oem/Desktop/DiCOVA/DiCOVA_Track_2_Release/\" ## Path to metadata for DiCOVA challenge Data\n",
    "audio_folder = \"/home/oem/Desktop/DiCOVA/Coswara/\"+mode+\"/\" ##Path to audio\n",
    "out_folder = \"/home/oem/Desktop/DiCOVA/Coswara/feats/\"+mode+\"/harmonics/\"\n",
    "out_folder1 = out_folder+\"harm_int/\"\n",
    "out_folder2 = out_folder+\"harm/\"\n",
    "\n",
    "list1 = makelist1(metadata_folder,audio_folder,out_folder1)\n",
    "list2 = makelist2(metadata_folder,out_folder1,out_folder2)\n",
    "createtxt(list1,out_folder+\"list1.list\")\n",
    "createtxt(list2,out_folder+\"list2.list\")"
   ]
  },
  {
   "cell_type": "markdown",
   "metadata": {},
   "source": [
    "### Get Lists for Formants features (These will be used by MATLAB codes)"
   ]
  },
  {
   "cell_type": "code",
   "execution_count": null,
   "metadata": {},
   "outputs": [],
   "source": [
    "def makelist1(metadata_folder,audio_folder,out_folder,mode):\n",
    "    md = pd.read_csv(metadata_folder+\"metadata.csv\")\n",
    "    audio = os.listdir(audio_folder)\n",
    "    audio.sort()\n",
    "    \n",
    "    ids = md['ID']\n",
    "    line = []\n",
    "    for i in range(len(audio)):\n",
    "        if(ids[i]==audio[i][:8]):\n",
    "            text = ids[i]+\" \"+audio_folder+ids[i]+\"_\"+mode+\".wav\"+\" \"+ out_folder+ids[i]+\"_\"+mode+\"_formant1.txt\"\n",
    "            line.append(text) \n",
    "        else:\n",
    "            break\n",
    "        \n",
    "    return line\n",
    "\n",
    "def makelist2(metadata_folder,harm1_folder,out_folder,mode):\n",
    "    md = pd.read_csv(metadata_folder+\"metadata.csv\")\n",
    "    audio = os.listdir(audio_folder)\n",
    "    audio.sort()\n",
    "    \n",
    "    ids = md['ID']\n",
    "    line = []\n",
    "    for i in range(len(audio)):\n",
    "        if(ids[i]==audio[i][:8]):\n",
    "            text = ids[i]+\" \"+harm1_folder+ids[i]+\"_\"+mode+\"_formant1.txt\"+\" \"+ out_folder+ids[i]+\"_\"+mode+\"_formant2.txt\"\n",
    "            line.append(text) \n",
    "        else:\n",
    "            break\n",
    "        \n",
    "    return line\n",
    "    \n",
    "def createtxt(array,listpath):\n",
    "    with open(listpath, 'w') as f:\n",
    "        for item in array:\n",
    "            f.write(\"%s\\n\" % item)\n"
   ]
  },
  {
   "cell_type": "code",
   "execution_count": null,
   "metadata": {},
   "outputs": [],
   "source": [
    "mode = \"breathing-deep\"\n",
    "metadata_folder = \"/home/oem/Desktop/DiCOVA/DiCOVA_Track_2_Release/\"\n",
    "audio_folder = \"/home/oem/Desktop/DiCOVA/Coswara/\"+mode+\"/\"\n",
    "out_folder = \"/home/oem/Desktop/DiCOVA/Coswara/feats/\"+mode+\"/formants_reduced/\"\n",
    "out_folder1 = out_folder+\"formant_int/\"\n",
    "out_folder2 = out_folder+\"formant/\"\n",
    "\n",
    "list1 = makelist1(metadata_folder,audio_folder,out_folder1,mode=mode)\n",
    "list2 = makelist2(metadata_folder,out_folder1,out_folder2,mode=mode)\n",
    "createtxt(list1,out_folder+\"list1.list\")\n",
    "createtxt(list2,out_folder+\"list2.list\")"
   ]
  },
  {
   "cell_type": "markdown",
   "metadata": {},
   "source": [
    "### Generate List Files for Train,Val and Eval"
   ]
  },
  {
   "cell_type": "code",
   "execution_count": null,
   "metadata": {},
   "outputs": [],
   "source": [
    "\n",
    "##This function replaces 'n' and 'p' in categories to 0 and 1\n",
    "def mod_metadata(metadata_path):\n",
    "    metadata = pd.read_csv(metadata_path+'/metadata.csv')\n",
    "    metadata = metadata.replace('p',1)\n",
    "    md = metadata.replace('n',0)\n",
    "\n",
    "    return md\n",
    "\n",
    "##This function creates the training,validation and evaluation lists \n",
    "def getlists(md,fstats_folder,x_folder,mode):\n",
    "    fstats = os.listdir(fstats_folder)\n",
    "    fstats.sort()\n",
    "    if(mode==\"train\" or mode==\"val\"):\n",
    "        for i in range(1,6):\n",
    "            if (mode==\"val\"):\n",
    "                file = open('/home/oem/Desktop/DiCOVA/DiCOVA_Track_2_Release/LISTS/val_fold_'+str(i)+'.txt', 'r')\n",
    "            elif(mode==\"train\"):\n",
    "                file = open('/home/oem/Desktop/DiCOVA/DiCOVA_Track_2_Release/LISTS/train_fold_'+str(i)+'.txt', 'r')\n",
    "            ids = file.readlines()\n",
    "            ids = [line.strip() for line in ids]\n",
    "            ids.sort()\n",
    "            for j in range(len(fstats)):\n",
    "                fstat = fstats[j]\n",
    "                ID = fstat[:8]\n",
    "                for k in range(len(ids)):\n",
    "                    if(ID == ids[k]):\n",
    "                        fn = list(md['ID'])\n",
    "                        ind = fn.index(ID)\n",
    "                        label = md['Covid_status'][ind]\n",
    "                        text = fstats_folder+fstat+\" \"+str(label)\n",
    "                        if (mode==\"val\"):\n",
    "                            with open(x_folder+\"val_fold_\"+str(i)+\".list\",'a') as listfile:\n",
    "                                listfile.write(text+\"\\n\")\n",
    "                        elif(mode==\"train\"):\n",
    "                            with open(x_folder+\"train_fold_\"+str(i)+\".list\",'a') as listfile:\n",
    "                                listfile.write(text+\"\\n\")\n",
    "                                \n",
    "    elif(mode==\"eval\"):\n",
    "        file = open('/home/oem/Desktop/DiCOVA/DiCOVA_Track_2_Release/LISTS/eval_list.txt', 'r')\n",
    "        ids = file.readlines()\n",
    "        ids = [line.strip() for line in ids]\n",
    "        ids.sort()\n",
    "        for j in range(len(fstats)):\n",
    "            fstat = fstats[j]\n",
    "            ID = fstat[:8]\n",
    "            for k in range(len(ids)):\n",
    "                if(ID == ids[k]):\n",
    "                    fn = list(md['ID'])\n",
    "                    ind = fn.index(ID)\n",
    "                    label = md['Covid_status'][ind]\n",
    "                    text = fstats_folder+fstat+\" \"+str(label)\n",
    "                    with open(x_folder+\"eval_list.list\",'a') as listfile:\n",
    "                        listfile.write(text+\"\\n\")\n",
    "                        \n",
    "    else:\n",
    "        return \n"
   ]
  },
  {
   "cell_type": "code",
   "execution_count": null,
   "metadata": {},
   "outputs": [],
   "source": [
    "metadata_path = '/home/oem/Desktop/DiCOVA/DiCOVA_Track_2_Release'\n",
    "fstats_folder = '/home/oem/Desktop/DiCOVA/Coswara/feats/vowel-e/fbank/fbank_avg/'\n",
    "x_folder = '/home/oem/Desktop/DiCOVA/Coswara/feats/vowel-e/fbank/'"
   ]
  },
  {
   "cell_type": "code",
   "execution_count": null,
   "metadata": {},
   "outputs": [],
   "source": [
    "md = mod_metadata(metadata_path)\n",
    "getlists(md,fstats_folder,x_folder,\"train\")\n",
    "getlists(md,fstats_folder,x_folder,\"val\")\n",
    "getlists(md,fstats_folder,x_folder,\"eval\")"
   ]
  },
  {
   "cell_type": "markdown",
   "metadata": {},
   "source": [
    "### Load Train,Val and Eval features"
   ]
  },
  {
   "cell_type": "code",
   "execution_count": 2,
   "metadata": {},
   "outputs": [],
   "source": [
    "##Use load_input1 to load .npy files path in your lists(Useful to load formants and harmonics features)\n",
    "def load_input1(file_path,featdim):\n",
    "    with open(file_path) as f:  \n",
    "        line = f.readline()\n",
    "        cnt = 1\n",
    "        tr = np.empty(shape=[0,featdim])\n",
    "        covid_trgt = []\n",
    "        while line:\n",
    "            [path,rem] = line.split()\n",
    "            covid = float(rem)\n",
    "            data_array = np.fromfile(path)\n",
    "            da = np.reshape(data_array,(1,-1))\n",
    "            covid_trgt.append(covid)\n",
    "            tr = np.append(tr,da,axis=0)\n",
    "            line = f.readline()\n",
    "            cnt+=1\n",
    "        print(\"train shape :\",np.shape(tr), \"targets shape :\", np.shape(covid_trgt))\n",
    "    return [tr,covid_trgt]\n",
    "\n",
    "\n",
    "##Use load_input2 to load .npy files directly (Useful to load fstat and mfcc features)\n",
    "\n",
    "def load_input2(file_path,featdim):\n",
    "    with open(file_path) as f:  \n",
    "        line = f.readline()\n",
    "        cnt = 1\n",
    "        tr = np.empty(shape=[0,featdim])\n",
    "        covid_trgt = []\n",
    "        while line:\n",
    "            [path,rem] = line.split()\n",
    "            covid = float(rem)\n",
    "            data_array = np.load(path)\n",
    "            da = np.reshape(data_array,(1,-1))\n",
    "            covid_trgt.append(covid)\n",
    "            tr = np.append(tr,da,axis=0)\n",
    "            line = f.readline()\n",
    "            cnt+=1\n",
    "        print(\"train shape :\",np.shape(tr), \"targets shape :\", np.shape(covid_trgt))\n",
    "    return [tr,covid_trgt]"
   ]
  },
  {
   "cell_type": "code",
   "execution_count": 3,
   "metadata": {},
   "outputs": [],
   "source": [
    "def data_dict1(data,feat_folder,feat_type,featdim):\n",
    "    for i in range(1,6): \n",
    "        data[\"tr\"+str(i)+\"_X\"],data[\"tr\"+str(i)+\"_Y\"] = load_input1(feat_folder+feat_type+\"/train_fold_\"+str(i)+\".list\",featdim)\n",
    "\n",
    "    for i in range(1,6):\n",
    "        data[\"val\"+str(i)+\"_X\"],data[\"val\"+str(i)+\"_Y\"] = load_input1(feat_folder+feat_type+\"/val_fold_\"+str(i)+\".list\",featdim)\n",
    "\n",
    "    data[\"eval_X\"],data[\"eval_Y\"] =load_input1(feat_folder+feat_type+\"/eval_list.list\",featdim)\n",
    "    \n",
    "    return data\n",
    "\n",
    "def data_dict2(data,feat_folder,feat_type,featdim):\n",
    "    for i in range(1,6): \n",
    "        data[\"tr\"+str(i)+\"_X\"],data[\"tr\"+str(i)+\"_Y\"] = load_input2(feat_folder+feat_type+\"/train_fold_\"+str(i)+\".list\",featdim)\n",
    "\n",
    "    for i in range(1,6):\n",
    "        data[\"val\"+str(i)+\"_X\"],data[\"val\"+str(i)+\"_Y\"] = load_input2(feat_folder+feat_type+\"/val_fold_\"+str(i)+\".list\",featdim)\n",
    "\n",
    "    data[\"eval_X\"],data[\"eval_Y\"] =load_input2(feat_folder+feat_type+\"/eval_list.list\",featdim)\n",
    "    \n",
    "    return data"
   ]
  },
  {
   "cell_type": "code",
   "execution_count": 4,
   "metadata": {},
   "outputs": [
    {
     "name": "stdout",
     "output_type": "stream",
     "text": [
      "train shape : (783, 30) targets shape : (783,)\n",
      "train shape : (783, 30) targets shape : (783,)\n",
      "train shape : (783, 30) targets shape : (783,)\n",
      "train shape : (783, 30) targets shape : (783,)\n",
      "train shape : (783, 30) targets shape : (783,)\n",
      "train shape : (207, 30) targets shape : (207,)\n",
      "train shape : (207, 30) targets shape : (207,)\n",
      "train shape : (207, 30) targets shape : (207,)\n",
      "train shape : (207, 30) targets shape : (207,)\n",
      "train shape : (207, 30) targets shape : (207,)\n",
      "train shape : (209, 30) targets shape : (209,)\n",
      "train shape : (783, 180) targets shape : (783,)\n",
      "train shape : (783, 180) targets shape : (783,)\n",
      "train shape : (783, 180) targets shape : (783,)\n",
      "train shape : (783, 180) targets shape : (783,)\n",
      "train shape : (783, 180) targets shape : (783,)\n",
      "train shape : (207, 180) targets shape : (207,)\n",
      "train shape : (207, 180) targets shape : (207,)\n",
      "train shape : (207, 180) targets shape : (207,)\n",
      "train shape : (207, 180) targets shape : (207,)\n",
      "train shape : (207, 180) targets shape : (207,)\n",
      "train shape : (209, 180) targets shape : (209,)\n",
      "train shape : (783, 1560) targets shape : (783,)\n",
      "train shape : (783, 1560) targets shape : (783,)\n",
      "train shape : (783, 1560) targets shape : (783,)\n",
      "train shape : (783, 1560) targets shape : (783,)\n",
      "train shape : (783, 1560) targets shape : (783,)\n",
      "train shape : (207, 1560) targets shape : (207,)\n",
      "train shape : (207, 1560) targets shape : (207,)\n",
      "train shape : (207, 1560) targets shape : (207,)\n",
      "train shape : (207, 1560) targets shape : (207,)\n",
      "train shape : (207, 1560) targets shape : (207,)\n",
      "train shape : (209, 1560) targets shape : (209,)\n"
     ]
    }
   ],
   "source": [
    "\"\"\" Counting Normal Dataset\"\"\"\n",
    "feat_folder = \"/home/oem/Desktop/DiCOVA/Coswara/feats/counting-normal/\"\n",
    "\n",
    "feat_type2 = \"formants\"\n",
    "featdim2 = 30\n",
    "count_form = {}\n",
    "count_form = data_dict1(count_form,feat_folder,feat_type2,featdim2)\n",
    "\n",
    "feat_type3 = \"harmonics\"\n",
    "featdim3 = 180\n",
    "count_harm = {}\n",
    "count_harm = data_dict1(count_harm,feat_folder,feat_type3,featdim3)\n",
    "\n",
    "feat_type1 = \"fstats\"\n",
    "featdim1 = 1560\n",
    "count_fstats={}\n",
    "count_fstats = data_dict2(count_fstats,feat_folder,feat_type1,featdim1)"
   ]
  },
  {
   "cell_type": "code",
   "execution_count": 5,
   "metadata": {},
   "outputs": [
    {
     "name": "stdout",
     "output_type": "stream",
     "text": [
      "train shape : (783, 30) targets shape : (783,)\n",
      "train shape : (783, 30) targets shape : (783,)\n",
      "train shape : (783, 30) targets shape : (783,)\n",
      "train shape : (783, 30) targets shape : (783,)\n",
      "train shape : (783, 30) targets shape : (783,)\n",
      "train shape : (207, 30) targets shape : (207,)\n",
      "train shape : (207, 30) targets shape : (207,)\n",
      "train shape : (207, 30) targets shape : (207,)\n",
      "train shape : (207, 30) targets shape : (207,)\n",
      "train shape : (207, 30) targets shape : (207,)\n",
      "train shape : (209, 30) targets shape : (209,)\n",
      "train shape : (783, 180) targets shape : (783,)\n",
      "train shape : (783, 180) targets shape : (783,)\n",
      "train shape : (783, 180) targets shape : (783,)\n",
      "train shape : (783, 180) targets shape : (783,)\n",
      "train shape : (783, 180) targets shape : (783,)\n",
      "train shape : (207, 180) targets shape : (207,)\n",
      "train shape : (207, 180) targets shape : (207,)\n",
      "train shape : (207, 180) targets shape : (207,)\n",
      "train shape : (207, 180) targets shape : (207,)\n",
      "train shape : (207, 180) targets shape : (207,)\n",
      "train shape : (209, 180) targets shape : (209,)\n",
      "train shape : (783, 40) targets shape : (783,)\n",
      "train shape : (783, 40) targets shape : (783,)\n",
      "train shape : (783, 40) targets shape : (783,)\n",
      "train shape : (783, 40) targets shape : (783,)\n",
      "train shape : (783, 40) targets shape : (783,)\n",
      "train shape : (207, 40) targets shape : (207,)\n",
      "train shape : (207, 40) targets shape : (207,)\n",
      "train shape : (207, 40) targets shape : (207,)\n",
      "train shape : (207, 40) targets shape : (207,)\n",
      "train shape : (207, 40) targets shape : (207,)\n",
      "train shape : (209, 40) targets shape : (209,)\n"
     ]
    }
   ],
   "source": [
    "\"\"\" Vowel-e Dataset\"\"\"\n",
    "feat_folder = \"/home/oem/Desktop/DiCOVA/Coswara/feats/vowel-e/\"\n",
    "\n",
    "feat_type1 = \"formants\"\n",
    "featdim1 = 30\n",
    "vowel_form = {}\n",
    "vowel_form = data_dict1(vowel_form,feat_folder,feat_type1,featdim1)\n",
    "\n",
    "feat_type2 = \"harmonics\"\n",
    "featdim2 = 180\n",
    "vowel_harm = {}\n",
    "vowel_harm = data_dict1(vowel_harm,feat_folder,feat_type2,featdim2)\n",
    "\n",
    "feat_type3 = \"fbank\"\n",
    "featdim3 = 40\n",
    "vowel_fbank = {}\n",
    "vowel_fbank = data_dict2(vowel_fbank,feat_folder,feat_type3,featdim3)"
   ]
  },
  {
   "cell_type": "code",
   "execution_count": 6,
   "metadata": {},
   "outputs": [
    {
     "name": "stdout",
     "output_type": "stream",
     "text": [
      "train shape : (783, 24) targets shape : (783,)\n",
      "train shape : (783, 24) targets shape : (783,)\n",
      "train shape : (783, 24) targets shape : (783,)\n",
      "train shape : (783, 24) targets shape : (783,)\n",
      "train shape : (783, 24) targets shape : (783,)\n",
      "train shape : (207, 24) targets shape : (207,)\n",
      "train shape : (207, 24) targets shape : (207,)\n",
      "train shape : (207, 24) targets shape : (207,)\n",
      "train shape : (207, 24) targets shape : (207,)\n",
      "train shape : (207, 24) targets shape : (207,)\n",
      "train shape : (209, 24) targets shape : (209,)\n",
      "train shape : (783, 40) targets shape : (783,)\n",
      "train shape : (783, 40) targets shape : (783,)\n",
      "train shape : (783, 40) targets shape : (783,)\n",
      "train shape : (783, 40) targets shape : (783,)\n",
      "train shape : (783, 40) targets shape : (783,)\n",
      "train shape : (207, 40) targets shape : (207,)\n",
      "train shape : (207, 40) targets shape : (207,)\n",
      "train shape : (207, 40) targets shape : (207,)\n",
      "train shape : (207, 40) targets shape : (207,)\n",
      "train shape : (207, 40) targets shape : (207,)\n",
      "train shape : (209, 40) targets shape : (209,)\n"
     ]
    }
   ],
   "source": [
    "\"\"\" Breathing-Deep Dataset\"\"\"\n",
    "feat_folder = \"/home/oem/Desktop/DiCOVA/Coswara/feats/breathing-deep/\"\n",
    "feat_type = \"formants_reduced\"\n",
    "featdim = 24\n",
    "breath_form = {}\n",
    "breath_form = data_dict1(breath_form,feat_folder,feat_type,featdim)\n",
    "\n",
    "feat_type2 = \"fbank\"\n",
    "featdim2 = 40\n",
    "breath_fbank = {}\n",
    "breath_fbank = data_dict2(breath_fbank,feat_folder,feat_type2,featdim2)"
   ]
  },
  {
   "cell_type": "markdown",
   "metadata": {},
   "source": [
    "### Classifier"
   ]
  },
  {
   "cell_type": "code",
   "execution_count": 32,
   "metadata": {},
   "outputs": [],
   "source": [
    "\n",
    "def score_auc(estimator, X, y):\n",
    "    y_score = estimator.decision_function(X) \n",
    "    probs = y_score\n",
    "    return y_score,roc_auc_score(y, probs)\n",
    "\n",
    "def sens_spec(Conf):\n",
    "    sens = (Conf[1][1])/(Conf[1][1]+Conf[1][0])\n",
    "    spec = (Conf[0][0])/(Conf[0][1]+Conf[0][0])\n",
    "    return sens,spec\n",
    "\n",
    "def to_labels(pos_probs, threshold):\n",
    "    return (pos_probs >= threshold).astype('int')\n",
    "\n",
    "def compute_eer(fpr,tpr,thresholds):\n",
    "    fnr = 1-tpr\n",
    "#     eer_threshold=thresholds[np.argmax(np.sqrt(tpr*(1-fpr)))]\n",
    "    eer_threshold = thresholds[np.nanargmin(np.absolute((fnr - fpr)))]\n",
    "    return eer_threshold\n",
    "\n",
    "def SVM(train_X,train_Y,val_X,val_Y,C):\n",
    "    clf = svm.SVC(C=C,class_weight=\"balanced\",probability=True)\n",
    "    clf.fit(train_X,train_Y)\n",
    "    probs = clf.decision_function(val_X)\n",
    "    probs = 1/(1+np.exp(-1*probs))\n",
    "    return probs"
   ]
  },
  {
   "cell_type": "code",
   "execution_count": null,
   "metadata": {},
   "outputs": [],
   "source": []
  },
  {
   "cell_type": "code",
   "execution_count": 33,
   "metadata": {},
   "outputs": [],
   "source": [
    "def run_SVM_CV(data,C,pred,balance=False):\n",
    "    y_hard={}\n",
    "    folds = list(data.keys())\n",
    "    for i in range(0,(len(folds)-2)//2,2):\n",
    "        if (balance==False):\n",
    "            print(\"Folds:\",i//2+1)\n",
    "            y_prob = SVM(data[folds[i]],data[folds[i+1]],data[folds[i+10]],data[folds[i+11]],C)\n",
    "            fpr, tpr, t = metrics.roc_curve(data[folds[i+11]], y_prob)\n",
    "            auc = metrics.auc(fpr,tpr)\n",
    "            best_thresh =compute_eer(fpr,tpr,t) \n",
    "            hard = to_labels(y_prob,best_thresh)\n",
    "            confusion = conf(data[folds[i+11]],hard)\n",
    "            sens,spec = sens_spec(confusion)\n",
    "            print(\"Sens:\",sens,\"Spec:\",spec)\n",
    "            print(\"auc:\",auc)\n",
    "            pred[\"pred_fold_\"+str((i//2+1))] = y_prob\n",
    "            y_hard[\"hard_fold_\"+str((i//2+1))] = hard\n",
    "        else:\n",
    "            X,Y = balance_dist(data[folds[i]],data[folds[i+1]],700)\n",
    "            y_prob = SVM(X,Y,data[folds[i+10]],data[folds[i+11]],C)\n",
    "            pred[\"pred_fold_\"+str((i//2+1))] = y_prob\n",
    "    return y_hard,pred\n",
    "\n",
    "def run_SVM_eval(data,C,balance=False):\n",
    "    folds = list(data.keys())\n",
    "    if (balance==False):\n",
    "        tr_X = np.concatenate((data[folds[0]],data[folds[10]]))\n",
    "        tr_Y = np.concatenate((data[folds[1]],data[folds[11]]))\n",
    "        val_X,val_Y = data[folds[20]],data[folds[21]]\n",
    "        y_prob = SVM(tr_X,tr_Y,val_X,val_Y,C)\n",
    "\n",
    "    return val_Y,y_prob"
   ]
  },
  {
   "cell_type": "code",
   "execution_count": 34,
   "metadata": {},
   "outputs": [],
   "source": [
    "def score(testy,probs):\n",
    "    thresholds = np.arange(-1, 1, 0.001)\n",
    "    scores = [perf_measure(testy, to_labels(probs, t)) for t in thresholds]\n",
    "    scores = np.subtract(scores,[0.8]*len(scores))\n",
    "    ix = np.argmin(np.abs(scores))\n",
    "    print(scores)\n",
    "    best_thresh = thresholds[ix]\n",
    "    return best_thresh\n",
    "    \n",
    "\n",
    "def avg_CV(data,data_soft):\n",
    "    folds = list(data.keys())\n",
    "    fds = list(data_soft.keys())\n",
    "    y_true = np.concatenate([data[folds[i+11]] for i in range(0,(len(folds)-2)//2,2)])\n",
    "    probs = np.concatenate([data_soft[fds[j]] for j in range(0,5)])\n",
    "    fpr, tpr, thresholds = metrics.roc_curve(y_true, probs)\n",
    "    auc = metrics.auc(fpr,tpr)\n",
    "    best_thresh = compute_eer(fpr,tpr,thresholds)\n",
    "    hard = to_labels(probs,best_thresh)\n",
    "    confusion = conf(y_true,hard)\n",
    "    sens,spec = sens_spec(confusion)\n",
    "    print(\"Sens:\",sens,\"Spec:\",spec)\n",
    "    print(\"auc:\",auc)\n",
    "    print(confusion)\n",
    "    return hard,best_thresh\n",
    "\n",
    "\n",
    "def avg_eval(data,best_thresh,C,feat,data_type):\n",
    "    y_true,probs = run_SVM_eval(data,C)\n",
    "    fpr, tpr, thresholds = metrics.roc_curve(y_true, probs)\n",
    "    thresh = compute_eer(fpr,tpr,thresholds)\n",
    "    auc = metrics.auc(fpr,tpr)\n",
    "    hard = to_labels(probs,best_thresh)\n",
    "    confusion = conf(y_true,hard)\n",
    "    sens,spec = sens_spec(confusion)\n",
    "    print(\"Sens:\",sens,\"Spec:\",spec)\n",
    "    print(\"auc:\",auc)\n",
    "    print(confusion)\n",
    "    return probs,hard\n",
    "\n",
    "\n",
    "def plot_roc(y_test,preds,feat,data_type):\n",
    "    fpr, tpr, threshold = metrics.roc_curve(y_test, preds)\n",
    "    roc_auc = metrics.auc(fpr, tpr)\n",
    "    plt.title(data_type+' ROC')\n",
    "    plt.plot([0, 1], [0, 1],'r--')\n",
    "    plt.xlim([0, 1])\n",
    "    plt.ylim([0, 1])\n",
    "    plt.ylabel('True Positive Rate')\n",
    "    plt.xlabel('False Positive Rate')\n",
    "    plt.plot(fpr, tpr, label = feat+', AUC=%0.3f' % roc_auc)\n",
    "    plt.legend(loc = 'lower right')\n",
    "    return"
   ]
  },
  {
   "cell_type": "markdown",
   "metadata": {},
   "source": [
    "## MAKE PREDICTIONS!"
   ]
  },
  {
   "cell_type": "markdown",
   "metadata": {},
   "source": [
    "### Counting-Normal"
   ]
  },
  {
   "cell_type": "code",
   "execution_count": 35,
   "metadata": {},
   "outputs": [],
   "source": [
    "count_fstats_soft={}\n",
    "count_form_soft={}\n",
    "count_harm_soft={}\n",
    "\n",
    "count_fstats_hard={}\n",
    "count_form_hard={}\n",
    "count_harm_hard={}"
   ]
  },
  {
   "cell_type": "code",
   "execution_count": 53,
   "metadata": {},
   "outputs": [
    {
     "name": "stdout",
     "output_type": "stream",
     "text": [
      "C: 0.1\n",
      "Folds: 1\n",
      "Sens: 0.6190476190476191 Spec: 0.6397849462365591\n",
      "auc: 0.6372247823860727\n",
      "Folds: 2\n",
      "Sens: 0.5714285714285714 Spec: 0.543010752688172\n",
      "auc: 0.6523297491039426\n",
      "Folds: 3\n",
      "Sens: 0.6190476190476191 Spec: 0.6129032258064516\n",
      "auc: 0.6402969790066564\n",
      "Folds: 4\n",
      "Sens: 0.6666666666666666 Spec: 0.6505376344086021\n",
      "auc: 0.6300563236047106\n",
      "Folds: 5\n",
      "Sens: 0.7142857142857143 Spec: 0.6774193548387096\n",
      "auc: 0.6981566820276497\n",
      "Sens: 0.6095238095238096 Spec: 0.613978494623656\n",
      "auc: 0.6418535586277521\n",
      "[[571 359]\n",
      " [ 41  64]]\n",
      "Sens: 0.6190476190476191 Spec: 0.5691489361702128\n",
      "auc: 0.6377912867274569\n",
      "[[107  81]\n",
      " [  8  13]]\n"
     ]
    }
   ],
   "source": [
    "C=[0.1]\n",
    "for j in range(len(C)):\n",
    "    print(\"C:\",C[j])\n",
    "    count_fstats_hard,count_fstats_soft = run_SVM_CV(count_fstats,C[j],count_fstats_soft,balance=False)\n",
    "    x,count_fstats_thresh = avg_CV(count_fstats,count_fstats_soft)\n",
    "count_fstats_eval_soft,count_fstats_eval_hard=avg_eval(count_fstats,count_fstats_thresh,C[0],feat=\"fstats\",data_type=\"Counting-Normal\")"
   ]
  },
  {
   "cell_type": "code",
   "execution_count": 37,
   "metadata": {},
   "outputs": [
    {
     "name": "stdout",
     "output_type": "stream",
     "text": [
      "C: 10.0\n",
      "Folds: 1\n",
      "Sens: 0.6666666666666666 Spec: 0.6451612903225806\n",
      "auc: 0.7204301075268817\n",
      "Folds: 2\n",
      "Sens: 0.5714285714285714 Spec: 0.5860215053763441\n",
      "auc: 0.6379928315412187\n",
      "Folds: 3\n",
      "Sens: 0.6190476190476191 Spec: 0.6290322580645161\n",
      "auc: 0.6451612903225806\n",
      "Folds: 4\n",
      "Sens: 0.6190476190476191 Spec: 0.6344086021505376\n",
      "auc: 0.6164874551971327\n",
      "Folds: 5\n",
      "Sens: 0.5714285714285714 Spec: 0.521505376344086\n",
      "auc: 0.6113671274961597\n",
      "Sens: 0.6095238095238096 Spec: 0.6086021505376344\n",
      "auc: 0.6408602150537636\n",
      "[[566 364]\n",
      " [ 41  64]]\n",
      "Sens: 0.5238095238095238 Spec: 0.6542553191489362\n",
      "auc: 0.6519756838905775\n",
      "[[123  65]\n",
      " [ 10  11]]\n"
     ]
    }
   ],
   "source": [
    "C=[1e1]\n",
    "for j in range(len(C)):\n",
    "    print(\"C:\",C[j])\n",
    "    count_harm_hard,count_harm_soft = run_SVM_CV(count_harm,C[j],count_harm_soft,balance=False)\n",
    "    x,count_harm_thresh = avg_CV(count_harm,count_harm_soft)\n",
    "count_harm_eval_soft,count_harm_eval_hard=avg_eval(count_harm,count_harm_thresh,C[0],feat=\"harm\",data_type=\"Counting-Normal\")"
   ]
  },
  {
   "cell_type": "code",
   "execution_count": 38,
   "metadata": {},
   "outputs": [
    {
     "name": "stdout",
     "output_type": "stream",
     "text": [
      "C: 10.0\n",
      "Folds: 1\n",
      "Sens: 0.6666666666666666 Spec: 0.6612903225806451\n",
      "auc: 0.7621607782898105\n",
      "Folds: 2\n",
      "Sens: 0.6666666666666666 Spec: 0.6881720430107527\n",
      "auc: 0.6715309779825909\n",
      "Folds: 3\n",
      "Sens: 0.6190476190476191 Spec: 0.6129032258064516\n",
      "auc: 0.6344086021505376\n",
      "Folds: 4\n",
      "Sens: 0.6190476190476191 Spec: 0.6021505376344086\n",
      "auc: 0.631336405529954\n",
      "Folds: 5\n",
      "Sens: 0.5714285714285714 Spec: 0.5752688172043011\n",
      "auc: 0.6643625192012288\n",
      "Sens: 0.6285714285714286 Spec: 0.6258064516129033\n",
      "auc: 0.666041986687148\n",
      "[[582 348]\n",
      " [ 39  66]]\n",
      "Sens: 0.7142857142857143 Spec: 0.6170212765957447\n",
      "auc: 0.6973150962512664\n",
      "[[116  72]\n",
      " [  6  15]]\n"
     ]
    }
   ],
   "source": [
    "C=[1e1]\n",
    "for j in range(len(C)):\n",
    "    print(\"C:\",C[j])\n",
    "    count_form_hard,count_form_soft = run_SVM_CV(count_form,C[j],count_form_soft,balance=False)\n",
    "    x,count_form_thresh = avg_CV(count_form,count_form_soft)\n",
    "    \n",
    "count_form_eval_soft,count_form_eval_hard=avg_eval(count_form,count_form_thresh,C[0],feat=\"form\",data_type=\"Counting-Normal\")"
   ]
  },
  {
   "cell_type": "markdown",
   "metadata": {},
   "source": [
    "### Vowel-/i/"
   ]
  },
  {
   "cell_type": "code",
   "execution_count": 39,
   "metadata": {},
   "outputs": [],
   "source": [
    "vowel_form_soft = {}\n",
    "vowel_harm_soft = {}\n",
    "vowel_fbank_soft = {}\n",
    "\n",
    "vowel_form_hard = {}\n",
    "vowel_harm_hard = {}\n",
    "vowel_fbank_hard = {}"
   ]
  },
  {
   "cell_type": "code",
   "execution_count": 40,
   "metadata": {},
   "outputs": [
    {
     "name": "stdout",
     "output_type": "stream",
     "text": [
      "C: 1000\n",
      "Folds: 1\n",
      "Sens: 0.6666666666666666 Spec: 0.6720430107526881\n",
      "auc: 0.6899641577060932\n",
      "Folds: 2\n",
      "Sens: 0.5714285714285714 Spec: 0.6559139784946236\n",
      "auc: 0.6223758320532513\n",
      "Folds: 3\n",
      "Sens: 0.6190476190476191 Spec: 0.6612903225806451\n",
      "auc: 0.6346646185355863\n",
      "Folds: 4\n",
      "Sens: 0.6190476190476191 Spec: 0.6182795698924731\n",
      "auc: 0.7004608294930876\n",
      "Folds: 5\n",
      "Sens: 0.47619047619047616 Spec: 0.46774193548387094\n",
      "auc: 0.5207373271889402\n",
      "Sens: 0.6 Spec: 0.6236559139784946\n",
      "auc: 0.6321351766513057\n",
      "[[580 350]\n",
      " [ 42  63]]\n",
      "Sens: 0.6190476190476191 Spec: 0.5585106382978723\n",
      "auc: 0.585612968591692\n",
      "[[105  83]\n",
      " [  8  13]]\n"
     ]
    }
   ],
   "source": [
    "C=[1000]\n",
    "for j in range(len(C)):\n",
    "    print(\"C:\",C[j])\n",
    "    vowel_harm_hard,vowel_harm_soft = run_SVM_CV(vowel_harm,C[j],vowel_harm_soft,balance=False)\n",
    "    x,vowel_harm_thresh = avg_CV(vowel_harm,vowel_harm_soft)\n",
    "vowel_harm_eval_soft,vowel_harm_eval_hard=avg_eval(vowel_harm,vowel_harm_thresh,C[0],feat=\"harm\",data_type=\"Vowel-/i/\")"
   ]
  },
  {
   "cell_type": "code",
   "execution_count": 41,
   "metadata": {},
   "outputs": [
    {
     "name": "stdout",
     "output_type": "stream",
     "text": [
      "C: 1\n",
      "Folds: 1\n",
      "Sens: 0.5714285714285714 Spec: 0.5698924731182796\n",
      "auc: 0.634152585765489\n",
      "Folds: 2\n",
      "Sens: 0.5714285714285714 Spec: 0.5268817204301075\n",
      "auc: 0.6513056835637481\n",
      "Folds: 3\n",
      "Sens: 0.6666666666666666 Spec: 0.6881720430107527\n",
      "auc: 0.7050691244239631\n",
      "Folds: 4\n",
      "Sens: 0.5238095238095238 Spec: 0.5376344086021505\n",
      "auc: 0.602662570404506\n",
      "Folds: 5\n",
      "Sens: 0.5238095238095238 Spec: 0.5161290322580645\n",
      "auc: 0.5593958013312852\n",
      "Sens: 0.6 Spec: 0.5967741935483871\n",
      "auc: 0.6190783410138249\n",
      "[[555 375]\n",
      " [ 42  63]]\n",
      "Sens: 0.5714285714285714 Spec: 0.6329787234042553\n",
      "auc: 0.5828267477203648\n",
      "[[119  69]\n",
      " [  9  12]]\n"
     ]
    }
   ],
   "source": [
    "C=[1]\n",
    "for j in range(len(C)):\n",
    "    print(\"C:\",C[j])\n",
    "    vowel_form_hard,vowel_form_soft = run_SVM_CV(vowel_form,C[j],vowel_form_soft,balance=False)\n",
    "    x,vowel_form_thresh = avg_CV(vowel_form,vowel_form_soft)\n",
    "vowel_form_eval_soft,vowel_form_eval_hard = avg_eval(vowel_form,vowel_form_thresh,C[0],feat=\"form\",data_type=\"Vowel-/i/\")"
   ]
  },
  {
   "cell_type": "code",
   "execution_count": 42,
   "metadata": {},
   "outputs": [
    {
     "name": "stdout",
     "output_type": "stream",
     "text": [
      "C: 1\n",
      "Folds: 1\n",
      "Sens: 0.6666666666666666 Spec: 0.6720430107526881\n",
      "auc: 0.7178699436763952\n",
      "Folds: 2\n",
      "Sens: 0.6190476190476191 Spec: 0.6505376344086021\n",
      "auc: 0.6833077316948285\n",
      "Folds: 3\n",
      "Sens: 0.6666666666666666 Spec: 0.6774193548387096\n",
      "auc: 0.7327188940092165\n",
      "Folds: 4\n",
      "Sens: 0.6190476190476191 Spec: 0.6397849462365591\n",
      "auc: 0.655657962109575\n",
      "Folds: 5\n",
      "Sens: 0.6190476190476191 Spec: 0.6182795698924731\n",
      "auc: 0.6400409626216078\n",
      "Sens: 0.6476190476190476 Spec: 0.6494623655913978\n",
      "auc: 0.6874859190988224\n",
      "[[604 326]\n",
      " [ 37  68]]\n",
      "Sens: 0.47619047619047616 Spec: 0.6223404255319149\n",
      "auc: 0.6030901722391084\n",
      "[[117  71]\n",
      " [ 11  10]]\n"
     ]
    }
   ],
   "source": [
    "C=[1]\n",
    "for j in range(len(C)):\n",
    "    print(\"C:\",C[j])\n",
    "    vowel_fbank_hard,vowel_fbank_soft = run_SVM_CV(vowel_fbank,C[j],vowel_fbank_soft,balance=False)\n",
    "    x,vowel_fbank_thresh = avg_CV(vowel_fbank,vowel_fbank_soft)\n",
    "vowel_fbank_eval_soft,vowel_fbank_eval_hard=avg_eval(vowel_fbank,vowel_fbank_thresh,C[0],feat=\"fbank\",data_type=\"Vowel-/i/\")"
   ]
  },
  {
   "cell_type": "markdown",
   "metadata": {},
   "source": [
    "### Breathing-Deep"
   ]
  },
  {
   "cell_type": "code",
   "execution_count": 43,
   "metadata": {},
   "outputs": [],
   "source": [
    "breath_form_soft={}\n",
    "breath_form_hard={}\n",
    "breath_fbank_soft={}\n",
    "breath_fbank_hard={}"
   ]
  },
  {
   "cell_type": "code",
   "execution_count": 44,
   "metadata": {},
   "outputs": [
    {
     "name": "stdout",
     "output_type": "stream",
     "text": [
      "C: 10\n",
      "Folds: 1\n",
      "Sens: 0.5714285714285714 Spec: 0.5645161290322581\n",
      "auc: 0.6052227342549923\n",
      "Folds: 2\n",
      "Sens: 0.5714285714285714 Spec: 0.553763440860215\n",
      "auc: 0.5509472606246799\n",
      "Folds: 3\n",
      "Sens: 0.6190476190476191 Spec: 0.5698924731182796\n",
      "auc: 0.6707629288274449\n",
      "Folds: 4\n",
      "Sens: 0.6190476190476191 Spec: 0.6129032258064516\n",
      "auc: 0.6561699948796723\n",
      "Folds: 5\n",
      "Sens: 0.5714285714285714 Spec: 0.5698924731182796\n",
      "auc: 0.6077828981054787\n",
      "Sens: 0.580952380952381 Spec: 0.5817204301075268\n",
      "auc: 0.6141218637992831\n",
      "[[541 389]\n",
      " [ 44  61]]\n",
      "Sens: 0.5238095238095238 Spec: 0.5531914893617021\n",
      "auc: 0.5924518743667679\n",
      "[[104  84]\n",
      " [ 10  11]]\n"
     ]
    }
   ],
   "source": [
    "C=[10]\n",
    "for j in range(len(C)):\n",
    "    print(\"C:\",C[j])\n",
    "    breath_fbank_hard,breath_fbank_soft = run_SVM_CV(breath_fbank,C[j],breath_fbank_soft,balance=False)\n",
    "    x,breath_fbank_thresh = avg_CV(breath_fbank,breath_fbank_soft)\n",
    "breath_fbank_eval_soft,breath_fbank_eval_hard=avg_eval(breath_fbank,breath_fbank_thresh,C[0],feat=\"fbank\",data_type=\"Breathing-Deep\")"
   ]
  },
  {
   "cell_type": "code",
   "execution_count": 46,
   "metadata": {},
   "outputs": [
    {
     "name": "stdout",
     "output_type": "stream",
     "text": [
      "C: 100\n",
      "Folds: 1\n",
      "Sens: 0.6190476190476191 Spec: 0.5860215053763441\n",
      "auc: 0.6618023553507424\n",
      "Folds: 2\n",
      "Sens: 0.5714285714285714 Spec: 0.5698924731182796\n",
      "auc: 0.6385048643113159\n",
      "Folds: 3\n",
      "Sens: 0.5714285714285714 Spec: 0.5645161290322581\n",
      "auc: 0.6223758320532514\n",
      "Folds: 4\n",
      "Sens: 0.6190476190476191 Spec: 0.6290322580645161\n",
      "auc: 0.6986687147977471\n",
      "Folds: 5\n",
      "Sens: 0.5714285714285714 Spec: 0.5698924731182796\n",
      "auc: 0.6344086021505376\n",
      "Sens: 0.6095238095238096 Spec: 0.6129032258064516\n",
      "auc: 0.6508141321044547\n",
      "[[570 360]\n",
      " [ 41  64]]\n",
      "Sens: 0.6666666666666666 Spec: 0.5904255319148937\n",
      "auc: 0.7173252279635258\n",
      "[[111  77]\n",
      " [  7  14]]\n"
     ]
    }
   ],
   "source": [
    "C=[100]\n",
    "for j in range(len(C)):\n",
    "    print(\"C:\",C[j])\n",
    "    breath_form_hard,breath_form_soft = run_SVM_CV(breath_form,C[j],breath_form_soft,balance=False)\n",
    "    x,breath_form_thresh = avg_CV(breath_form,breath_form_soft)\n",
    "breath_form_eval_soft,breath_form_eval_hard=avg_eval(breath_form,breath_form_thresh,C[0],feat=\"form\",data_type=\"Breathing-Deep\")"
   ]
  },
  {
   "cell_type": "markdown",
   "metadata": {},
   "source": [
    "### Combine Classifier Outputs"
   ]
  },
  {
   "cell_type": "code",
   "execution_count": 74,
   "metadata": {},
   "outputs": [],
   "source": [
    "import sklearn.metrics as metrics\n",
    "import matplotlib.pyplot as plt\n",
    "\n",
    "def plot_roc(y_test,preds,feat,data_type):\n",
    "    fpr, tpr, threshold = metrics.roc_curve(y_test, preds)\n",
    "    roc_auc = metrics.auc(fpr, tpr)\n",
    "    plt.title(data_type+' ROC')\n",
    "    plt.plot([0, 1], [0, 1],'r--')\n",
    "    plt.xlim([0, 1])\n",
    "    plt.ylim([0, 1])\n",
    "    plt.ylabel('True Positive Rate')\n",
    "    plt.xlabel('False Positive Rate')\n",
    "    plt.plot(fpr, tpr, label = feat+', AUC=%0.3f' % roc_auc)\n",
    "    plt.legend(loc = 'lower right')\n",
    "    return\n",
    "\n",
    "def auc_avg_CV(data,data_pred,feat,data_type):\n",
    "    folds = list(data.keys())\n",
    "    fds = list(data_pred.keys())\n",
    "    X = np.concatenate([data[folds[i+11]] for i in range(0,(len(folds)-2)//2,2)])\n",
    "    Y = np.concatenate([data_pred[fds[j]] for j in range(0,5)])\n",
    "    plot_roc(X,Y,feat,data_type)\n",
    "    return\n",
    "\n",
    "def auc_eval(data,pred,feat,data_type):\n",
    "    folds = list(data.keys())\n",
    "    X = data[folds[21]]\n",
    "    Y = pred\n",
    "    plot_roc(X,Y,feat,data_type)\n",
    "    return\n",
    "\n",
    "def avg_CV_eval(data,pred,feat,data_type):\n",
    "    folds = list(data.keys())\n",
    "    X = data[folds[21]]\n",
    "    Y = pred\n",
    "    fpr, tpr, thresholds = metrics.roc_curve(X,Y)\n",
    "    auc = metrics.auc(fpr,tpr)\n",
    "    best_thresh = compute_eer(fpr,tpr,thresholds)\n",
    "    hard = to_labels(Y,best_thresh)\n",
    "    confusion = conf(X,hard)\n",
    "    sens,spec = sens_spec(confusion)\n",
    "    print(\"Sens:\",sens,\"Spec:\",spec)\n",
    "    print(\"auc:\",auc)\n",
    "    plot_roc(X,Y,feat,data_type)\n",
    "    return\n",
    "\n",
    "def avg_CV(data,data_pred,feat,data_type):\n",
    "    folds = list(data.keys())\n",
    "    fds = list(data_pred.keys())\n",
    "    X = np.concatenate([data[folds[i+11]] for i in range(0,(len(folds)-2)//2,2)])\n",
    "    Y = np.concatenate([data_pred[fds[j]] for j in range(0,5)])\n",
    "    fpr, tpr, thresholds = metrics.roc_curve(X,Y)\n",
    "    auc = metrics.auc(fpr,tpr)\n",
    "    best_thresh = compute_eer(fpr,tpr,thresholds)\n",
    "    hard = to_labels(Y,best_thresh)\n",
    "    confusion = conf(X,hard)\n",
    "    sens,spec = sens_spec(confusion)\n",
    "    print(\"Sens:\",sens,\"Spec:\",spec)\n",
    "    print(\"AUC:\",auc)\n",
    "    print(confusion)\n",
    "    plot_roc(X,Y,feat,data_type)\n",
    "    return auc"
   ]
  },
  {
   "cell_type": "markdown",
   "metadata": {},
   "source": [
    "### Plot ROC Curves"
   ]
  },
  {
   "cell_type": "code",
   "execution_count": 55,
   "metadata": {},
   "outputs": [
    {
     "data": {
      "image/png": "[encoded data removed]",
      "text/plain": [
       "<Figure size 432x288 with 1 Axes>"
      ]
     },
     "metadata": {
      "needs_background": "light"
     },
     "output_type": "display_data"
    }
   ],
   "source": [
    "data_type = 'Counting-Normal'\n",
    "auc_avg_CV(count_fstats,count_fstats_soft,feat='supervectors_CV',data_type=data_type)\n",
    "auc_eval(count_fstats,count_fstats_eval_soft,feat='supervectors_eval',data_type=data_type)\n",
    "auc_avg_CV(count_form,count_form_soft,feat='formants_CV',data_type=data_type)\n",
    "auc_eval(count_form,count_form_eval_soft,feat='formants_eval',data_type=data_type)\n",
    "auc_avg_CV(count_harm,count_harm_soft,feat='harmonics_CV',data_type=data_type)\n",
    "auc_eval(count_harm,count_harm_eval_soft,feat='harmonics_eval',data_type=data_type)"
   ]
  },
  {
   "cell_type": "code",
   "execution_count": 77,
   "metadata": {},
   "outputs": [
    {
     "data": {
      "image/png": "[encoded data removed]",
      "text/plain": [
       "<Figure size 432x288 with 1 Axes>"
      ]
     },
     "metadata": {
      "needs_background": "light"
     },
     "output_type": "display_data"
    }
   ],
   "source": [
    "data_type = \"Task Wise Best Features\"\n",
    "# auc_eval(count_fstats,count_fstats_eval_soft,feat='Counting_Supervectors',data_type=data_type)\n",
    "auc_eval(count_form,count_form_eval_soft,feat='Counting_Formants',data_type=data_type)\n",
    "# auc_eval(count_harm,count_harm_eval_soft,feat='Counting_Harmonics',data_type=data_type)\n",
    "auc_eval(vowel_fbank,vowel_fbank_eval_soft,feat='Vowel_MFCC',data_type=data_type)\n",
    "# auc_eval(vowel_form,vowel_form_eval_soft,feat='Vowel_Formants',data_type=data_type)\n",
    "# auc_eval(vowel_harm,vowel_harm_eval_soft,feat='Breathing_Harmonics',data_type=data_type)\n",
    "auc_eval(breath_form,breath_form_eval_soft,feat='Breathing_Formants',data_type=data_type)\n",
    "# auc_eval(breath_fbank,breath_fbank_eval_soft,feat='Breathing_MFCC',data_type=data_type)"
   ]
  },
  {
   "cell_type": "code",
   "execution_count": 56,
   "metadata": {},
   "outputs": [
    {
     "data": {
      "image/png": "[encoded data removed]",
      "text/plain": [
       "<Figure size 432x288 with 1 Axes>"
      ]
     },
     "metadata": {
      "needs_background": "light"
     },
     "output_type": "display_data"
    }
   ],
   "source": [
    "data_type = 'Vowel-/i/'\n",
    "auc_avg_CV(vowel_fbank,vowel_fbank_soft,feat='fbank_CV',data_type=data_type)\n",
    "auc_eval(vowel_fbank,vowel_fbank_eval_soft,feat='fbank_eval',data_type=data_type)\n",
    "\n",
    "auc_avg_CV(vowel_form,vowel_form_soft,feat='formants_CV',data_type=data_type)\n",
    "auc_eval(vowel_form,vowel_form_eval_soft,feat='formants_eval',data_type=data_type)\n",
    "\n",
    "auc_avg_CV(vowel_harm,vowel_harm_soft,feat='harmonics_CV',data_type=data_type)\n",
    "auc_eval(vowel_harm,vowel_harm_eval_soft,feat='harmonics_eval',data_type=data_type)"
   ]
  },
  {
   "cell_type": "code",
   "execution_count": 57,
   "metadata": {},
   "outputs": [
    {
     "data": {
      "image/png": "[encoded data removed]",
      "text/plain": [
       "<Figure size 432x288 with 1 Axes>"
      ]
     },
     "metadata": {
      "needs_background": "light"
     },
     "output_type": "display_data"
    }
   ],
   "source": [
    "data_type = 'Breathing-Deep'\n",
    "auc_avg_CV(breath_form,breath_form_soft,feat='formants_CV',data_type=data_type)\n",
    "auc_eval(breath_form,breath_form_eval_soft,feat='formants_eval',data_type=data_type)\n",
    "auc_avg_CV(breath_fbank,breath_fbank_soft,feat='fbank_CV',data_type=data_type)\n",
    "auc_eval(breath_fbank,breath_fbank_eval_soft,feat='fbank_eval',data_type=data_type)"
   ]
  },
  {
   "cell_type": "markdown",
   "metadata": {},
   "source": [
    "### Different Types of Fusion Of Features"
   ]
  },
  {
   "cell_type": "code",
   "execution_count": 58,
   "metadata": {},
   "outputs": [],
   "source": [
    "def run_maxvoting3(data1,data2,data3):\n",
    "    pred={}\n",
    "    folds = list(data2.keys())\n",
    "#     print(folds[0])\n",
    "    for i in range(len(folds)):\n",
    "        pred1 = data1[folds[i]]\n",
    "        pred2 = data2[folds[i]]\n",
    "        pred3 = data3[folds[i]]\n",
    "        pred[folds[i]] = (data1[folds[i]]+data2[folds[i]]+data3[folds[i]])/3\n",
    "    return pred\n",
    "\n",
    "def run_maxvoting6(data1,data2,data3,data4,data5,data6):\n",
    "    pred={}\n",
    "    folds = list(data2.keys())\n",
    "#     print(folds[0])\n",
    "    for i in range(len(folds)):\n",
    "        pred1 = data1[folds[i]]\n",
    "        pred2 = data2[folds[i]]\n",
    "        pred3 = data3[folds[i]]\n",
    "        pred4 = data4[folds[i]]\n",
    "        pred5 = data5[folds[i]]\n",
    "        pred6 = data6[folds[i]]\n",
    "        pred[folds[i]] = (pred1+pred2+pred3+pred4+pred5+pred6)/6\n",
    "    return pred\n",
    "\n",
    "\n",
    "def run_maxvoting2(data1,data2):\n",
    "    pred={}\n",
    "    folds = list(data1.keys())\n",
    "    for i in range(len(folds)):\n",
    "        pred1 = data1[folds[i]]\n",
    "        pred2 = data2[folds[i]]\n",
    "        pred[folds[i]] = (pred1+pred2)/2\n",
    "        \n",
    "    return pred\n",
    "\n",
    "def run_maxvoting_eval3(data1,data2,data3):\n",
    "    pred = (data1+data2+data3)/3\n",
    "    return pred\n",
    "\n",
    "def run_maxvoting_eval2(data1,data2):\n",
    "    pred = (data1+data2)/2\n",
    "    return pred\n",
    "\n",
    "def run_maxvoting_eval6(data1,data2,data3,data4,data5,data6):\n",
    "    pred = (data1+data2+data3+data4+data5+data6)/6\n",
    "    return pred\n",
    "\n",
    "\n",
    "def thresh_eval1(pred):\n",
    "    a = pred\n",
    "    a[a<=1] = 0\n",
    "    a[a>1] = 1\n",
    "    \n",
    "    pred = a\n",
    "        \n",
    "    return pred\n",
    "\n",
    "def avgvote3(hard1,hard2,hard3):\n",
    "    pred={}\n",
    "    pred = run_maxvoting3(hard1,hard2,hard3)\n",
    "    fds = list(pred.keys())\n",
    "    x = pred\n",
    "        \n",
    "    return x\n",
    "\n",
    "def avgvote2(hard1,hard2):\n",
    "    pred={}\n",
    "    pred = run_maxvoting2(hard1,hard2)\n",
    "    fds = list(pred.keys())\n",
    "    x = pred\n",
    "        \n",
    "    return x\n",
    "\n",
    "def avgvote6(hard1,hard2,hard3,hard4,hard5,hard6):\n",
    "    pred={}\n",
    "    pred = run_maxvoting6(hard1,hard2,hard3,hard4,hard5,hard6)\n",
    "    fds = list(pred.keys())\n",
    "    x = pred\n",
    "        \n",
    "    return x\n",
    "\n",
    "def avgvote_eval3(hard1,hard2,hard3):\n",
    "    pred = run_maxvoting_eval3(hard1,hard2,hard3)\n",
    "    x = pred\n",
    "    return x\n",
    "\n",
    "def avgvote_eval2(hard1,hard2):\n",
    "    pred = run_maxvoting_eval2(hard1,hard2)\n",
    "    x = pred\n",
    "    return x\n",
    "\n",
    "def avgvote_eval6(hard1,hard2,hard3,hard4,hard5,hard6):\n",
    "    pred = run_maxvoting_eval6(hard1,hard2,hard3,hard4,hard5,hard6)\n",
    "    x = pred\n",
    "    return x"
   ]
  },
  {
   "cell_type": "markdown",
   "metadata": {},
   "source": [
    "### Combine All Features in A Task"
   ]
  },
  {
   "cell_type": "code",
   "execution_count": 64,
   "metadata": {},
   "outputs": [
    {
     "name": "stdout",
     "output_type": "stream",
     "text": [
      "Sens: 0.638095238095238 Spec: 0.6376344086021506\n",
      "AUC: 0.6834203789042499\n",
      "[[593 337]\n",
      " [ 38  67]]\n",
      "Sens: 0.6190476190476191 Spec: 0.6170212765957447\n",
      "auc: 0.6752786220871327\n"
     ]
    },
    {
     "data": {
      "image/png": "[encoded data removed]",
      "text/plain": [
       "<Figure size 432x288 with 1 Axes>"
      ]
     },
     "metadata": {
      "needs_background": "light"
     },
     "output_type": "display_data"
    }
   ],
   "source": [
    "x2 = maxvote3(count_form_soft,count_harm_soft,count_fstats_soft)\n",
    "conf2 = avg_CV(count_form,x2,feat=\"Combined_Counting_CV\",data_type=\"counting-normal\")\n",
    "x1 = maxvote_eval3(count_fstats_eval_soft,count_form_eval_soft,count_harm_eval_soft)\n",
    "conf1 = avg_CV_eval(count_harm,x1,feat=\"Combined_Counting_Eval\",data_type='counting-normal')"
   ]
  },
  {
   "cell_type": "code",
   "execution_count": 60,
   "metadata": {},
   "outputs": [
    {
     "name": "stdout",
     "output_type": "stream",
     "text": [
      "Sens: 0.6285714285714286 Spec: 0.6279569892473118\n",
      "AUC: 0.6774091141833077\n",
      "[[584 346]\n",
      " [ 39  66]]\n",
      "Sens: 0.5714285714285714 Spec: 0.574468085106383\n",
      "auc: 0.6106889564336373\n"
     ]
    },
    {
     "data": {
      "image/png": "[encoded data removed]",
      "text/plain": [
       "<Figure size 432x288 with 1 Axes>"
      ]
     },
     "metadata": {
      "needs_background": "light"
     },
     "output_type": "display_data"
    }
   ],
   "source": [
    "x3 = maxvote3(vowel_form_soft,vowel_harm_soft,vowel_fbank_soft)\n",
    "conf3 = avg_CV(vowel_form,x3,feat=\"Combined_Vowel_CV\",data_type=\"Vowel-/i/\")\n",
    "x4 = maxvote_eval3(vowel_form_eval_soft,vowel_harm_eval_soft,vowel_fbank_eval_soft)\n",
    "conf4 = avg_CV_eval(vowel_form,x4,feat=\"Combined_Vowel_Eval\",data_type='Vowel-/i/')"
   ]
  },
  {
   "cell_type": "code",
   "execution_count": 61,
   "metadata": {},
   "outputs": [
    {
     "name": "stdout",
     "output_type": "stream",
     "text": [
      "Sens: 0.6 Spec: 0.6075268817204301\n",
      "AUC: 0.6535279057859703\n",
      "[[565 365]\n",
      " [ 42  63]]\n",
      "Sens: 0.6190476190476191 Spec: 0.675531914893617\n",
      "auc: 0.6909827760891589\n"
     ]
    },
    {
     "data": {
      "image/png": "[encoded data removed]",
      "text/plain": [
       "<Figure size 432x288 with 1 Axes>"
      ]
     },
     "metadata": {
      "needs_background": "light"
     },
     "output_type": "display_data"
    }
   ],
   "source": [
    "x5 = maxvote2(breath_form_soft,breath_fbank_soft)\n",
    "conf5 = avg_CV(breath_form,x5,feat=\"Combined_Breath_CV\",data_type = \"Breathing-Deep\")\n",
    "x6 = maxvote_eval2(breath_form_eval_soft,breath_fbank_eval_soft)\n",
    "conf6 = avg_CV_eval(breath_form,x6,feat=\"Combined_Breath_Eval\",data_type=\"Breathing-Deep\")"
   ]
  },
  {
   "cell_type": "markdown",
   "metadata": {},
   "source": [
    "### Combine All Features"
   ]
  },
  {
   "cell_type": "code",
   "execution_count": 62,
   "metadata": {},
   "outputs": [
    {
     "name": "stdout",
     "output_type": "stream",
     "text": [
      "Sens: 0.6666666666666666 Spec: 0.6709677419354839\n",
      "AUC: 0.7341116231438812\n",
      "[[624 306]\n",
      " [ 35  70]]\n",
      "Sens: 0.6190476190476191 Spec: 0.6223404255319149\n",
      "auc: 0.7173252279635258\n"
     ]
    },
    {
     "data": {
      "image/png": "[encoded data removed]",
      "text/plain": [
       "<Figure size 432x288 with 1 Axes>"
      ]
     },
     "metadata": {
      "needs_background": "light"
     },
     "output_type": "display_data"
    }
   ],
   "source": [
    "x7 = maxvote6(vowel_form_soft,vowel_fbank_soft,breath_form_soft,breath_fbank_soft,count_form_soft,count_fstats_soft)\n",
    "conf7 = avg_CV(vowel_form,x7,feat=\"Speaker_Level_CV\",data_type=\"Speaker_Level\")\n",
    "x8 = maxvote_eval6(vowel_form_eval_soft,vowel_fbank_eval_soft,breath_form_eval_soft,breath_fbank_eval_soft,count_form_eval_soft,count_fstats_eval_soft)\n",
    "conf8 = avg_CV_eval(breath_form,x8,feat=\"Speaker_Level_Eval\",data_type=\"Speaker_Level\")"
   ]
  },
  {
   "cell_type": "markdown",
   "metadata": {},
   "source": [
    "### Feature Combination Across All Tasks"
   ]
  },
  {
   "cell_type": "code",
   "execution_count": null,
   "metadata": {},
   "outputs": [],
   "source": [
    "x9 = maxvote3(vowel_fbank_soft,count_fstats_soft,breath_fbank_soft)\n",
    "conf9 = avg_CV(vowel_fbank,x9,feat=\"Combined_Fstats_CV\",data_type = \"Fstats\")\n",
    "x10 = maxvote_eval3(vowel_fbank_eval_soft,count_fstats_eval_soft,breath_fbank_eval_soft)\n",
    "conf10 = avg_CV_eval(breath_fbank,x10,feat=\"Combined_Fstats_Eval\",data_type=\"Fstats\")"
   ]
  },
  {
   "cell_type": "code",
   "execution_count": null,
   "metadata": {},
   "outputs": [],
   "source": [
    "x11 = maxvote3(vowel_form_soft,count_form_soft,breath_form_soft)\n",
    "conf11 = avg_CV(vowel_form,x11,feat=\"Combined_Breath_CV\",data_type = \"Formants\")\n",
    "x12 = maxvote_eval3(vowel_form_eval_soft,count_form_eval_soft,breath_form_eval_soft)\n",
    "conf12 = avg_CV_eval(vowel_form,x12,feat=\"Combined_Breath_Eval\",data_type=\"Formants\")"
   ]
  }
 ],
 "metadata": {
  "kernelspec": {
   "display_name": "Python 3",
   "language": "python",
   "name": "python3"
  },
  "language_info": {
   "codemirror_mode": {
    "name": "ipython",
    "version": 3
   },
   "file_extension": ".py",
   "mimetype": "text/x-python",
   "name": "python",
   "nbconvert_exporter": "python",
   "pygments_lexer": "ipython3",
   "version": "3.8.8"
  }
 },
 "nbformat": 4,
 "nbformat_minor": 4
}
