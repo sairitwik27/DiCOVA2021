{
 "cells": [
  {
   "cell_type": "markdown",
   "metadata": {},
   "source": [
    "### Import Libraries"
   ]
  },
  {
   "cell_type": "code",
   "execution_count": 4,
   "metadata": {},
   "outputs": [],
   "source": [
    "import glob\n",
    "import re\n",
    "import pathlib\n",
    "import os\n",
    "import numpy as np\n",
    "import pandas as pd\n",
    "from sklearn.preprocessing import StandardScaler\n",
    "from sklearn.decomposition import PCA\n",
    "import kaldiio\n",
    "import numpy as np\n",
    "\n",
    "import imblearn\n",
    "import sklearn\n",
    "from sklearn import datasets,metrics\n",
    "from collections import Counter\n",
    "import matplotlib.pyplot as plt\n",
    "from sklearn import svm\n",
    "from sklearn.metrics import confusion_matrix as conf\n",
    "from imblearn.over_sampling import SVMSMOTE,SMOTE\n",
    "from imblearn.under_sampling import RandomUnderSampler\n",
    "from imblearn.pipeline import Pipeline\n",
    "from sklearn.metrics import roc_auc_score"
   ]
  },
  {
   "cell_type": "markdown",
   "metadata": {},
   "source": [
    "### Extract SuperVectors"
   ]
  },
  {
   "cell_type": "code",
   "execution_count": null,
   "metadata": {},
   "outputs": [],
   "source": [
    "def uttspkdict2(FOLDER_PATH,sound_mode):\n",
    "    metadata = pd.read_csv('/home/oem/Desktop/DiCOVA/DiCOVA_Track_2_Release/metadata.csv')\n",
    "    spkrlist = list(metadata['ID'])\n",
    "    spkrlist.sort()\n",
    "    uttspk = {}\n",
    "    for a in range(len(spkrlist)):\n",
    "        uttspk[spkrlist[a]] = str(spkrlist[a])+\"-\"+sound_mode+\".wav\"\n",
    "    return uttspk\n",
    "\n",
    "\n",
    "def writeuttspk2(TEXT_PATH,dictionary,mode):\n",
    "    d_keys = dictionary.keys()\n",
    "    newlines = []\n",
    "    for spkr in d_keys:\n",
    "        utt = dictionary[spkr]\n",
    "        newline = utt + ' ' + spkr        \n",
    "        newlines.append(newline)\n",
    "    if (mode == 'new'):\n",
    "        with open(TEXT_PATH,'w') as f:\n",
    "            f.write(\"\\n\".join(newlines))\n",
    "    elif (mode == 'append'):\n",
    "        with open(TEXT_PATH,'a') as f:\n",
    "            f.write(\"\\n\")\n",
    "            f.write(\"\\n\".join(newlines))\n",
    "    else:\n",
    "        raise ValueError('Mode Not supported')\n",
    "    return \n",
    "\n",
    "def gettext(wavpath,asr,mode):\n",
    "    if(asr == 'aspire'):\n",
    "        if (mode == 'convert'):\n",
    "            text = \"/usr/bin/sox -t wav \" + wavpath + \" -c 1 -b 16 -r 8000 -t wav - |\"\n",
    "        elif(mode == 'direct'):\n",
    "            text = wavpath\n",
    "    elif(asr == 'timit'):\n",
    "        if (mode == 'convert'):\n",
    "            text = \"/home/oem/Desktop/kaldi/egs/timit/s5/../../../tools/sph2pipe_v2.5/sph2pipe -f wav \" + wavpath + \" |\"\n",
    "        elif(mode == 'direct'):\n",
    "            text = wavpath\n",
    "    return text\n",
    "\n",
    "def writescp(spkr,utt,text,dictionary,TEXT_PATH,mode):\n",
    "    d_keys = dictionary.keys()\n",
    "    newlines = []\n",
    "    newline = spkr+'-'+utt + ' ' + text        \n",
    "    newlines.append(newline)\n",
    "    if (mode == 'new'):\n",
    "        with open(TEXT_PATH,'w') as f:\n",
    "            f.write(\"\\n\".join(newlines))\n",
    "    elif (mode == 'append'):\n",
    "        with open(TEXT_PATH,'a') as f:\n",
    "            f.write(\"\\n\")\n",
    "            f.write(\"\\n\".join(newlines))\n",
    "    else:\n",
    "        raise ValueError('Mode Not supported')\n",
    "    return "
   ]
  },
  {
   "cell_type": "markdown",
   "metadata": {},
   "source": [
    "#### Create utt2spk and wav.scp files for aspire"
   ]
  },
  {
   "cell_type": "code",
   "execution_count": null,
   "metadata": {},
   "outputs": [],
   "source": [
    "sound_mode = \"breathing-deep\"\n",
    "FOLDER_PATH = \"/home/oem/Desktop/DiCOVA/Coswara/\"+sound_mode\n",
    "sub = [ f.path for f in os.scandir(FOLDER_PATH)]\n",
    "sub.sort()\n",
    "\n",
    "\"\"\"\n",
    "Run this to get utt2spk file for aspire\n",
    "\"\"\"\n",
    "\n",
    "TEXT_PATH = '/home/oem/Desktop/DiCOVA/Coswara/utt2spk'\n",
    "FOLDER_PATH = \"/home/oem/Desktop/DiCOVA/Coswara/\"+sound_mode\n",
    "my_dict = uttspkdict2(FOLDER_PATH,sound_mode)\n",
    "writeuttspk2(TEXT_PATH,my_dict,'append')\n",
    "\n",
    "\n",
    "\"\"\"\n",
    "Run this to get the wavscp file for aspire\n",
    "\"\"\"\n",
    "SCP_PATH = '/home/oem/Desktop/DiCOVA/Coswara/wav.scp'\n",
    "wavpathlist = []\n",
    "my_dict = uttspkdict2(FOLDER_PATH,sound_mode)\n",
    "metadata = pd.read_csv('/home/oem/Desktop/DiCOVA/DiCOVA_Track_2_Release/metadata.csv')\n",
    "spkrlist = list(metadata['ID'])\n",
    "spkrlist.sort()\n",
    "for k in range(len(spkrlist)):\n",
    "    spkr = spkrlist[k]\n",
    "    utt = sound_mode+\".wav\"\n",
    "    print(utt)\n",
    "    print(sub[k])\n",
    "    wavpathlist.append(sub[k])\n",
    "    txt = gettext(wavpathlist[k],'aspire','convert')\n",
    "    if(k==0):\n",
    "        writescp(spkr,utt,txt,my_dict,SCP_PATH,'new')           \n",
    "    else:\n",
    "        writescp(spkr,utt,txt,my_dict,SCP_PATH,'append') "
   ]
  },
  {
   "cell_type": "markdown",
   "metadata": {},
   "source": [
    "#### Format the posteriors files suitable to the next code"
   ]
  },
  {
   "cell_type": "code",
   "execution_count": null,
   "metadata": {},
   "outputs": [],
   "source": [
    "Post = \"/home/oem/Desktop/DiCOVA/posteriors/\"\n",
    "Post_dir = Post+\"counting-normal/\"\n",
    "post_path = \"/home/oem/Desktop/DiCOVA/posteriors/combined/post4.txt\"\n",
    "def modposts(post_path,Post_dir)\n",
    "    with open(post_path) as f:\n",
    "        lines = [line.rstrip() for line in f]\n",
    "    if os.path.isdir(folder):\n",
    "        print(\"Exists\")\n",
    "    else:\n",
    "        print(\"Doesn't exist\")\n",
    "        os.mkdir(Post_dir)\n",
    "\n",
    "    print(len(lines))\n",
    "    for i in range(len(lines)):\n",
    "        x = lines[i]\n",
    "        y = x[:25]+\"post\"\n",
    "        with open(Post_dir+y,'a') as f:\n",
    "            z = x\n",
    "            a = z.replace(\" [\",\",[\")\n",
    "            f.write(a)\n",
    "    return"
   ]
  },
  {
   "cell_type": "markdown",
   "metadata": {},
   "source": [
    "#### Get Posterior matrices for each utterance"
   ]
  },
  {
   "cell_type": "code",
   "execution_count": null,
   "metadata": {},
   "outputs": [],
   "source": [
    "def findphoneindexprob(filename,phone_index):\n",
    "    f0 = open(filename,'r')\n",
    "    array = f0.read().split(',')\n",
    "    arr_indexprob=[]\n",
    "    for i in range (1,len(array)):\n",
    "        s0 = array[i]\n",
    "        if  ' '+str(phone_index) + ' ' in s0:\n",
    "            k=0\n",
    "            start = ' '+str(phone_index)+' '\n",
    "            s = array[i]\n",
    "            p = s.find(start)+len(start)\n",
    "            for space in s[p:]:\n",
    "                if (space == ' '):\n",
    "                    break\n",
    "                k+=1\n",
    "            arr_indexprob += [float(s[s.find(start)+len(start):s.find(start)+len(start)+k])]\n",
    "\n",
    "        else:\n",
    "            arr_indexprob += [0.0]\n",
    "    return arr_indexprob\n",
    "\n",
    "def findphoneprob(filename,phone):\n",
    "    with open(\"phonemap.txt\", 'r') as document:\n",
    "        phonedict = {}\n",
    "        for line in document:\n",
    "            line = line.split()\n",
    "            phonedict[line[0]] = line[1:]\n",
    "    arr_phoneprob = np.zeros(len(findphoneindexprob(filename,200))) #200 is an arbitrary non phone_index\n",
    "    for i in phonedict[phone]:\n",
    "        arr_phoneprob = np.add(findphoneindexprob(filename,i),arr_phoneprob)\n",
    "    return arr_phoneprob\n",
    "\n",
    "def sentenceprob(filename):\n",
    "    f = open(\"phonenames.txt\",'r')\n",
    "    phonenamearray = f.read().split(',')\n",
    "    y = []\n",
    "    for phone in phonenamearray:\n",
    "        y += [findphoneprob(filename,phone)]\n",
    "    y = np.array(y)    \n",
    "    return y.T"
   ]
  },
  {
   "cell_type": "markdown",
   "metadata": {},
   "source": [
    "#### Get the MFCC files in npy format from the scp file"
   ]
  },
  {
   "cell_type": "code",
   "execution_count": null,
   "metadata": {},
   "outputs": [],
   "source": [
    "PARENT_DIR = \"/home/oem/Desktop/DiCOVA/Coswara\"\n",
    "FOLDER_PATH = \"/home/oem/Desktop/DiCOVA/Coswara\"\n",
    "with open(FOLDER_PATH+\"/feats.scp\",'r') as f:\n",
    "    for line in f:\n",
    "        (key,rxfile) = line.split(' ')\n",
    "        mfcc = kaldiio.load_mat(rxfile)\n",
    "        mfcc = mfcc.mean(axis=0)\n",
    "        np.save(PARENT_DIR+\"/feats/breathing-deep/fbank/mfcc_avg/\"+key,mfcc)"
   ]
  },
  {
   "cell_type": "markdown",
   "metadata": {},
   "source": [
    "### Get the First Order statistics"
   ]
  },
  {
   "cell_type": "code",
   "execution_count": null,
   "metadata": {},
   "outputs": [],
   "source": [
    "def fstat(spkr,output_loc,mfcc_data,postprob_data,phoneclass,threshold,start,shift,framelength):\n",
    "    for key in phoneclass:\n",
    "        while ((start+framelength)<=len(mfcc_data)):\n",
    "            mfcc = mfcc_data[start:(start+framelength)]\n",
    "            postprob = postprob_data[start:(start+framelength)]\n",
    "            postprob1 = postprob[:,phoneclass[key]]\n",
    "            if(np.sum(np.sum(postprob1,axis=0)) > threshold):\n",
    "                phonesum = np.sum(postprob1,axis = 0)\n",
    "                for k in range(0,len(phonesum)):\n",
    "                    if (phonesum[k] == 0):\n",
    "                        phonesum[k] = 1e-8\n",
    "                norm = np.divide(postprob1,phonesum)\n",
    "                vector1 = (np.dot(norm.T,mfcc))\n",
    "                vector = vector1.flatten()\n",
    "                np.save(output_loc+key+'/'+spkr+'_'+str(start)+'.npy',vector)                    \n",
    "\n",
    "            start+=shift    \n",
    "    return"
   ]
  },
  {
   "cell_type": "code",
   "execution_count": null,
   "metadata": {},
   "outputs": [],
   "source": [
    "phoneclass = {'full':np.arange(0,39)}\n",
    "mfcc_dir = '/home/oem/Desktop/DiCOVA/feats/mfccnew/'\n",
    "mfcc = os.listdir(mfcc_dir)\n",
    "mfcc.sort()\n",
    "post_dir = '/home/oem/Desktop/DiCOVA/posteriors/counting-normal/'\n",
    "post = os.listdir(post_dir)\n",
    "post.sort()\n",
    "output_loc = '/home/oem/Desktop/DiCOVA/stats/' \n",
    "for i in range(len(mfcc)):\n",
    "        mfcc_data = np.load(mfcc_dir+mfcc[i])\n",
    "        postprob_data = sentenceprob(post_dir+post[i])\n",
    "        threshold = 0\n",
    "        start = 0\n",
    "        shift = len(mfcc_data)\n",
    "        framelength = len(mfcc_data)\n",
    "        spkr = post[i][:-5]\n",
    "        fstat(spkr,output_loc,mfcc_data,postprob_data,phoneclass,threshold,start,shift,framelength)"
   ]
  },
  {
   "cell_type": "markdown",
   "metadata": {},
   "source": [
    "### Get Harmonic features"
   ]
  },
  {
   "cell_type": "code",
   "execution_count": null,
   "metadata": {},
   "outputs": [],
   "source": [
    "import csv\n",
    "def makelist1(metadata_folder,audio_folder,out_folder,mode):\n",
    "    md = pd.read_csv(metadata_folder+\"metadata.csv\")\n",
    "    audio = os.listdir(audio_folder)\n",
    "    audio.sort()\n",
    "    \n",
    "    ids = md['ID']\n",
    "    line = []\n",
    "    for i in range(len(audio)):\n",
    "        if(ids[i]==audio[i][:8]):\n",
    "            text = ids[i]+\" \"+audio_folder+ids[i]+\"_\"+mode+\".wav\"+\" \"+ out_folder+ids[i]+\"_\"+mode+\"_harm1.txt\"\n",
    "            line.append(text) \n",
    "        else:\n",
    "            break\n",
    "        \n",
    "    return line\n",
    "\n",
    "def makelist2(metadata_folder,harm1_folder,out_folder,mode):\n",
    "    md = pd.read_csv(metadata_folder+\"metadata.csv\")\n",
    "    audio = os.listdir(audio_folder)\n",
    "    audio.sort()\n",
    "    \n",
    "    ids = md['ID']\n",
    "    line = []\n",
    "    for i in range(len(audio)):\n",
    "        if(ids[i]==audio[i][:8]):\n",
    "            text = ids[i]+\" \"+harm1_folder+ids[i]+\"_\"+mode+\"_harm1.txt\"+\" \"+ out_folder+ids[i]+\"_\"+mode+\"_harm2.txt\"\n",
    "            line.append(text) \n",
    "        else:\n",
    "            break\n",
    "        \n",
    "    return line\n",
    "    \n",
    "def createtxt(array,listpath):\n",
    "    with open(listpath, 'w') as f:\n",
    "        for item in array:\n",
    "            f.write(\"%s\\n\" % item)\n"
   ]
  },
  {
   "cell_type": "code",
   "execution_count": null,
   "metadata": {},
   "outputs": [],
   "source": [
    "mode = breathing-deep\n",
    "metadata_folder = \"/home/oem/Desktop/DiCOVA/DiCOVA_Track_2_Release/\"\n",
    "audio_folder = \"/home/oem/Desktop/DiCOVA/Coswara/\"+mode+\"/\"\n",
    "out_folder = \"/home/oem/Desktop/DiCOVA/Coswara/feats/\"+mode+\"/harmonics/\"\n",
    "out_folder1 = out_folder+\"harm_int/\"\n",
    "out_folder2 = out_folder+\"harm/\"\n",
    "\n",
    "list1 = makelist1(metadata_folder,audio_folder,out_folder1)\n",
    "list2 = makelist2(metadata_folder,out_folder1,out_folder2)\n",
    "createtxt(list1,out_folder+\"list1.list\")\n",
    "createtxt(list2,out_folder+\"list2.list\")"
   ]
  },
  {
   "cell_type": "markdown",
   "metadata": {},
   "source": [
    "### Get Formant features"
   ]
  },
  {
   "cell_type": "code",
   "execution_count": null,
   "metadata": {},
   "outputs": [],
   "source": [
    "import csv\n",
    "def makelist1(metadata_folder,audio_folder,out_folder,mode):\n",
    "    md = pd.read_csv(metadata_folder+\"metadata.csv\")\n",
    "    audio = os.listdir(audio_folder)\n",
    "    audio.sort()\n",
    "    \n",
    "    ids = md['ID']\n",
    "    line = []\n",
    "    for i in range(len(audio)):\n",
    "        if(ids[i]==audio[i][:8]):\n",
    "            text = ids[i]+\" \"+audio_folder+ids[i]+\"_\"+mode+\".wav\"+\" \"+ out_folder+ids[i]+\"_\"+mode+\"_formant1.txt\"\n",
    "            line.append(text) \n",
    "        else:\n",
    "            break\n",
    "        \n",
    "    return line\n",
    "\n",
    "def makelist2(metadata_folder,harm1_folder,out_folder,mode):\n",
    "    md = pd.read_csv(metadata_folder+\"metadata.csv\")\n",
    "    audio = os.listdir(audio_folder)\n",
    "    audio.sort()\n",
    "    \n",
    "    ids = md['ID']\n",
    "    line = []\n",
    "    for i in range(len(audio)):\n",
    "        if(ids[i]==audio[i][:8]):\n",
    "            text = ids[i]+\" \"+harm1_folder+ids[i]+\"_\"+mode+\"_formant1.txt\"+\" \"+ out_folder+ids[i]+\"_\"+mode+\"_formant2.txt\"\n",
    "            line.append(text) \n",
    "        else:\n",
    "            break\n",
    "        \n",
    "    return line\n",
    "    \n",
    "def createtxt(array,listpath):\n",
    "    with open(listpath, 'w') as f:\n",
    "        for item in array:\n",
    "            f.write(\"%s\\n\" % item)\n"
   ]
  },
  {
   "cell_type": "code",
   "execution_count": null,
   "metadata": {},
   "outputs": [],
   "source": [
    "mode = \"counting-normal\"\n",
    "metadata_folder = \"/home/oem/Desktop/DiCOVA/DiCOVA_Track_2_Release/\"\n",
    "audio_folder = \"/home/oem/Desktop/DiCOVA/Coswara/\"+mode+\"/\"\n",
    "out_folder = \"/home/oem/Desktop/DiCOVA/Coswara/feats/\"+mode+\"/harmonics/\"\n",
    "out_folder1 = out_folder+\"harm_int/\"\n",
    "out_folder2 = out_folder+\"harm/\"\n",
    "\n",
    "list1 = makelist1(metadata_folder,audio_folder,out_folder1,mode=mode)\n",
    "list2 = makelist2(metadata_folder,out_folder1,out_folder2,mode=mode)\n",
    "createtxt(list1,out_folder+\"list1.list\")\n",
    "createtxt(list2,out_folder+\"list2.list\")"
   ]
  },
  {
   "cell_type": "markdown",
   "metadata": {},
   "source": [
    "### Generate List Files for Train,Val and Eval"
   ]
  },
  {
   "cell_type": "code",
   "execution_count": null,
   "metadata": {},
   "outputs": [],
   "source": [
    "def mod_metadata(metadata_path):\n",
    "    metadata = pd.read_csv(metadata_path+'/metadata.csv')\n",
    "    metadata = metadata.replace('p',1)\n",
    "    md = metadata.replace('n',0)\n",
    "\n",
    "    return md\n",
    "\n",
    "def getlists(md,fstats_folder,x_folder,mode):\n",
    "    fstats = os.listdir(fstats_folder)\n",
    "    fstats.sort()\n",
    "    if(mode==\"train\" or mode==\"val\"):\n",
    "        for i in range(1,6):\n",
    "            if (mode==\"val\"):\n",
    "                file = open('/home/oem/Desktop/DiCOVA/DiCOVA_Track_2_Release/LISTS/val_fold_'+str(i)+'.txt', 'r')\n",
    "            elif(mode==\"train\"):\n",
    "                file = open('/home/oem/Desktop/DiCOVA/DiCOVA_Track_2_Release/LISTS/train_fold_'+str(i)+'.txt', 'r')\n",
    "            ids = file.readlines()\n",
    "            ids = [line.strip() for line in ids]\n",
    "            ids.sort()\n",
    "            for j in range(len(fstats)):\n",
    "                fstat = fstats[j]\n",
    "                ID = fstat[:8]\n",
    "                for k in range(len(ids)):\n",
    "                    if(ID == ids[k]):\n",
    "                        fn = list(md['ID'])\n",
    "                        ind = fn.index(ID)\n",
    "                        label = md['Covid_status'][ind]\n",
    "                        text = fstats_folder+fstat+\" \"+str(label)\n",
    "                        if (mode==\"val\"):\n",
    "                            with open(x_folder+\"val_fold_\"+str(i)+\".list\",'a') as listfile:\n",
    "                                listfile.write(text+\"\\n\")\n",
    "                        elif(mode==\"train\"):\n",
    "                            with open(x_folder+\"train_fold_\"+str(i)+\".list\",'a') as listfile:\n",
    "                                listfile.write(text+\"\\n\")\n",
    "                                \n",
    "    elif(mode==\"eval\"):\n",
    "        file = open('/home/oem/Desktop/DiCOVA/DiCOVA_Track_2_Release/LISTS/eval_list.txt', 'r')\n",
    "        ids = file.readlines()\n",
    "        ids = [line.strip() for line in ids]\n",
    "        ids.sort()\n",
    "        for j in range(len(fstats)):\n",
    "            fstat = fstats[j]\n",
    "            ID = fstat[:8]\n",
    "            for k in range(len(ids)):\n",
    "                if(ID == ids[k]):\n",
    "                    fn = list(md['ID'])\n",
    "                    ind = fn.index(ID)\n",
    "                    label = md['Covid_status'][ind]\n",
    "                    text = fstats_folder+fstat+\" \"+str(label)\n",
    "                    with open(x_folder+\"eval_list.list\",'a') as listfile:\n",
    "                        listfile.write(text+\"\\n\")\n",
    "                        \n",
    "    else:\n",
    "        return \n"
   ]
  },
  {
   "cell_type": "code",
   "execution_count": null,
   "metadata": {},
   "outputs": [],
   "source": [
    "metadata_path = '/home/oem/Desktop/DiCOVA/DiCOVA_Track_2_Release'\n",
    "fstats_folder = '/home/oem/Desktop/DiCOVA/Coswara/feats/counting-normal/fstats/full/'\n",
    "x_folder = '/home/oem/Desktop/DiCOVA/Coswara/feats/counting-normal/fstats/'"
   ]
  },
  {
   "cell_type": "code",
   "execution_count": null,
   "metadata": {},
   "outputs": [],
   "source": [
    "md = mod_metadata(metadata_path)\n",
    "getlists(md,fstats_folder,x_folder,\"train\")\n",
    "# getlists(md,fstats_folder,x_folder,\"val\")\n",
    "# getlists(md,fstats_folder,x_folder,\"eval\")"
   ]
  },
  {
   "cell_type": "markdown",
   "metadata": {},
   "source": [
    "### Load Train,Val and Eval features"
   ]
  },
  {
   "cell_type": "code",
   "execution_count": 1,
   "metadata": {},
   "outputs": [],
   "source": [
    "def load_input1(file_path,featdim):\n",
    "    with open(file_path) as f:  \n",
    "        line = f.readline()\n",
    "        cnt = 1\n",
    "        tr = np.empty(shape=[0,featdim])\n",
    "        covid_trgt = []\n",
    "        while line:\n",
    "            [path,rem] = line.split()\n",
    "            covid = float(rem)\n",
    "            data_array = np.fromfile(path)\n",
    "            da = np.reshape(data_array,(1,-1))\n",
    "            covid_trgt.append(covid)\n",
    "            tr = np.append(tr,da,axis=0)\n",
    "            line = f.readline()\n",
    "            cnt+=1\n",
    "        print(\"train shape :\",np.shape(tr), \"targets shape :\", np.shape(covid_trgt))\n",
    "    return [tr,covid_trgt]\n",
    "\n",
    "def load_input2(file_path,featdim):\n",
    "    with open(file_path) as f:  \n",
    "        line = f.readline()\n",
    "        cnt = 1\n",
    "        tr = np.empty(shape=[0,featdim])\n",
    "        covid_trgt = []\n",
    "        while line:\n",
    "            [path,rem] = line.split()\n",
    "            covid = float(rem)\n",
    "            data_array = np.load(path)\n",
    "            da = np.reshape(data_array,(1,-1))\n",
    "            covid_trgt.append(covid)\n",
    "            tr = np.append(tr,da,axis=0)\n",
    "            line = f.readline()\n",
    "            cnt+=1\n",
    "        print(\"train shape :\",np.shape(tr), \"targets shape :\", np.shape(covid_trgt))\n",
    "    return [tr,covid_trgt]"
   ]
  },
  {
   "cell_type": "code",
   "execution_count": 2,
   "metadata": {},
   "outputs": [],
   "source": [
    "def data_dict1(data,feat_folder,feat_type,featdim):\n",
    "    for i in range(1,6): \n",
    "        data[\"tr\"+str(i)+\"_X\"],data[\"tr\"+str(i)+\"_Y\"] = load_input1(feat_folder+feat_type+\"/train_fold_\"+str(i)+\".list\",featdim)\n",
    "\n",
    "    for i in range(1,6):\n",
    "        data[\"val\"+str(i)+\"_X\"],data[\"val\"+str(i)+\"_Y\"] = load_input1(feat_folder+feat_type+\"/val_fold_\"+str(i)+\".list\",featdim)\n",
    "\n",
    "    data[\"eval_X\"],data[\"eval_Y\"] =load_input1(feat_folder+feat_type+\"/eval_list.list\",featdim)\n",
    "    \n",
    "    return data\n",
    "\n",
    "def data_dict2(data,feat_folder,feat_type,featdim):\n",
    "    for i in range(1,6): \n",
    "        data[\"tr\"+str(i)+\"_X\"],data[\"tr\"+str(i)+\"_Y\"] = load_input2(feat_folder+feat_type+\"/train_fold_\"+str(i)+\".list\",featdim)\n",
    "\n",
    "    for i in range(1,6):\n",
    "        data[\"val\"+str(i)+\"_X\"],data[\"val\"+str(i)+\"_Y\"] = load_input2(feat_folder+feat_type+\"/val_fold_\"+str(i)+\".list\",featdim)\n",
    "\n",
    "    data[\"eval_X\"],data[\"eval_Y\"] =load_input2(feat_folder+feat_type+\"/eval_list.list\",featdim)\n",
    "    \n",
    "    return data\n",
    "\n",
    "def data_dict3(data,feat_folder,feat_type,featdim):\n",
    "    for i in range(1,6): \n",
    "        data[\"tr\"+str(i)+\"_X\"],data[\"tr\"+str(i)+\"_Y\"] = np.load(\"/home/oem/Desktop/DiCOVA/svm_data/counting-normal/tr\"+str(i)+\"_X.npy\"),np.load(\"/home/oem/Desktop/DiCOVA/svm_data/counting-normal/tr\"+str(i)+\"_Y.npy\")\n",
    "\n",
    "    for i in range(1,6):\n",
    "        data[\"val\"+str(i)+\"_X\"],data[\"val\"+str(i)+\"_Y\"] = np.load(\"/home/oem/Desktop/DiCOVA/svm_data/counting-normal/val\"+str(i)+\"_X.npy\"),np.load(\"/home/oem/Desktop/DiCOVA/svm_data/counting-normal/val\"+str(i)+\"_X.npy\")\n",
    "\n",
    "    data[\"eval_X\"],data[\"eval_Y\"] =load_input2(feat_folder+feat_type+\"/eval_list.list\",featdim)\n",
    "    \n",
    "    return data"
   ]
  },
  {
   "cell_type": "code",
   "execution_count": 5,
   "metadata": {},
   "outputs": [
    {
     "name": "stdout",
     "output_type": "stream",
     "text": [
      "train shape : (783, 30) targets shape : (783,)\n",
      "train shape : (783, 30) targets shape : (783,)\n",
      "train shape : (783, 30) targets shape : (783,)\n",
      "train shape : (783, 30) targets shape : (783,)\n",
      "train shape : (783, 30) targets shape : (783,)\n",
      "train shape : (207, 30) targets shape : (207,)\n",
      "train shape : (207, 30) targets shape : (207,)\n",
      "train shape : (207, 30) targets shape : (207,)\n",
      "train shape : (207, 30) targets shape : (207,)\n",
      "train shape : (207, 30) targets shape : (207,)\n",
      "train shape : (209, 30) targets shape : (209,)\n",
      "train shape : (783, 180) targets shape : (783,)\n",
      "train shape : (783, 180) targets shape : (783,)\n",
      "train shape : (783, 180) targets shape : (783,)\n",
      "train shape : (783, 180) targets shape : (783,)\n",
      "train shape : (783, 180) targets shape : (783,)\n",
      "train shape : (207, 180) targets shape : (207,)\n",
      "train shape : (207, 180) targets shape : (207,)\n",
      "train shape : (207, 180) targets shape : (207,)\n",
      "train shape : (207, 180) targets shape : (207,)\n",
      "train shape : (207, 180) targets shape : (207,)\n",
      "train shape : (209, 180) targets shape : (209,)\n",
      "train shape : (783, 1560) targets shape : (783,)\n",
      "train shape : (783, 1560) targets shape : (783,)\n",
      "train shape : (783, 1560) targets shape : (783,)\n",
      "train shape : (783, 1560) targets shape : (783,)\n",
      "train shape : (783, 1560) targets shape : (783,)\n",
      "train shape : (207, 1560) targets shape : (207,)\n",
      "train shape : (207, 1560) targets shape : (207,)\n",
      "train shape : (207, 1560) targets shape : (207,)\n",
      "train shape : (207, 1560) targets shape : (207,)\n",
      "train shape : (207, 1560) targets shape : (207,)\n",
      "train shape : (209, 1560) targets shape : (209,)\n"
     ]
    }
   ],
   "source": [
    "\"\"\" Counting Normal Dataset\"\"\"\n",
    "feat_folder = \"/home/oem/Desktop/DiCOVA/Coswara/feats/counting-normal/\"\n",
    "\n",
    "feat_type2 = \"formants\"\n",
    "featdim2 = 30\n",
    "count_form = {}\n",
    "count_form = data_dict1(count_form,feat_folder,feat_type2,featdim2)\n",
    "\n",
    "feat_type3 = \"harmonics\"\n",
    "featdim3 = 180\n",
    "count_harm = {}\n",
    "count_harm = data_dict1(count_harm,feat_folder,feat_type3,featdim3)\n",
    "\n",
    "feat_type1 = \"fstats\"\n",
    "featdim1 = 1560\n",
    "count_fstats={}\n",
    "count_fstats = data_dict2(count_fstats,feat_folder,feat_type1,featdim1)"
   ]
  },
  {
   "cell_type": "code",
   "execution_count": null,
   "metadata": {},
   "outputs": [],
   "source": [
    "import pickle\n",
    "\n",
    "# your_data = fstats\n",
    "\n",
    "# # Store data (serialize)\n",
    "# with open('/home/oem/Desktop/DiCOVA/Coswara/feats/counting-normal/fstats/fstats.pickle', 'wb') as handle:\n",
    "#     pickle.dump(your_data, handle, protocol=pickle.HIGHEST_PROTOCOL)\n",
    "\n",
    "# Load data (deserialize)\n",
    "with open('/home/oem/Desktop/DiCOVA/Coswara/feats/counting-normal/fstats/fstats.pickle', 'rb') as handle:\n",
    "    unserialized_data = pickle.load(handle)\n",
    "count_fstats = unserialized_data"
   ]
  },
  {
   "cell_type": "code",
   "execution_count": 6,
   "metadata": {},
   "outputs": [
    {
     "name": "stdout",
     "output_type": "stream",
     "text": [
      "train shape : (783, 30) targets shape : (783,)\n",
      "train shape : (783, 30) targets shape : (783,)\n",
      "train shape : (783, 30) targets shape : (783,)\n",
      "train shape : (783, 30) targets shape : (783,)\n",
      "train shape : (783, 30) targets shape : (783,)\n",
      "train shape : (207, 30) targets shape : (207,)\n",
      "train shape : (207, 30) targets shape : (207,)\n",
      "train shape : (207, 30) targets shape : (207,)\n",
      "train shape : (207, 30) targets shape : (207,)\n",
      "train shape : (207, 30) targets shape : (207,)\n",
      "train shape : (209, 30) targets shape : (209,)\n",
      "train shape : (783, 180) targets shape : (783,)\n",
      "train shape : (783, 180) targets shape : (783,)\n",
      "train shape : (783, 180) targets shape : (783,)\n",
      "train shape : (783, 180) targets shape : (783,)\n",
      "train shape : (783, 180) targets shape : (783,)\n",
      "train shape : (207, 180) targets shape : (207,)\n",
      "train shape : (207, 180) targets shape : (207,)\n",
      "train shape : (207, 180) targets shape : (207,)\n",
      "train shape : (207, 180) targets shape : (207,)\n",
      "train shape : (207, 180) targets shape : (207,)\n",
      "train shape : (209, 180) targets shape : (209,)\n",
      "train shape : (783, 40) targets shape : (783,)\n",
      "train shape : (783, 40) targets shape : (783,)\n",
      "train shape : (783, 40) targets shape : (783,)\n",
      "train shape : (783, 40) targets shape : (783,)\n",
      "train shape : (783, 40) targets shape : (783,)\n",
      "train shape : (207, 40) targets shape : (207,)\n",
      "train shape : (207, 40) targets shape : (207,)\n",
      "train shape : (207, 40) targets shape : (207,)\n",
      "train shape : (207, 40) targets shape : (207,)\n",
      "train shape : (207, 40) targets shape : (207,)\n",
      "train shape : (209, 40) targets shape : (209,)\n"
     ]
    }
   ],
   "source": [
    "\"\"\" Vowel-e Dataset\"\"\"\n",
    "feat_folder = \"/home/oem/Desktop/DiCOVA/Coswara/feats/vowel-e/\"\n",
    "\n",
    "feat_type1 = \"formants\"\n",
    "featdim1 = 30\n",
    "vowel_form = {}\n",
    "vowel_form = data_dict1(vowel_form,feat_folder,feat_type1,featdim1)\n",
    "\n",
    "feat_type2 = \"harmonics\"\n",
    "featdim2 = 180\n",
    "vowel_harm = {}\n",
    "vowel_harm = data_dict1(vowel_harm,feat_folder,feat_type2,featdim2)\n",
    "\n",
    "feat_type3 = \"fbank\"\n",
    "featdim3 = 40\n",
    "vowel_fbank = {}\n",
    "vowel_fbank = data_dict2(vowel_fbank,feat_folder,feat_type3,featdim3)"
   ]
  },
  {
   "cell_type": "code",
   "execution_count": 7,
   "metadata": {},
   "outputs": [
    {
     "name": "stdout",
     "output_type": "stream",
     "text": [
      "train shape : (783, 30) targets shape : (783,)\n",
      "train shape : (783, 30) targets shape : (783,)\n",
      "train shape : (783, 30) targets shape : (783,)\n",
      "train shape : (783, 30) targets shape : (783,)\n",
      "train shape : (783, 30) targets shape : (783,)\n",
      "train shape : (207, 30) targets shape : (207,)\n",
      "train shape : (207, 30) targets shape : (207,)\n",
      "train shape : (207, 30) targets shape : (207,)\n",
      "train shape : (207, 30) targets shape : (207,)\n",
      "train shape : (207, 30) targets shape : (207,)\n",
      "train shape : (209, 30) targets shape : (209,)\n",
      "train shape : (783, 40) targets shape : (783,)\n",
      "train shape : (783, 40) targets shape : (783,)\n",
      "train shape : (783, 40) targets shape : (783,)\n",
      "train shape : (783, 40) targets shape : (783,)\n",
      "train shape : (783, 40) targets shape : (783,)\n",
      "train shape : (207, 40) targets shape : (207,)\n",
      "train shape : (207, 40) targets shape : (207,)\n",
      "train shape : (207, 40) targets shape : (207,)\n",
      "train shape : (207, 40) targets shape : (207,)\n",
      "train shape : (207, 40) targets shape : (207,)\n",
      "train shape : (209, 40) targets shape : (209,)\n"
     ]
    }
   ],
   "source": [
    "\"\"\" Breathing-Deep Dataset\"\"\"\n",
    "feat_folder = \"/home/oem/Desktop/DiCOVA/Coswara/feats/breathing-deep/\"\n",
    "feat_type = \"formants\"\n",
    "featdim = 30\n",
    "breath_form = {}\n",
    "breath_form = data_dict1(breath_form,feat_folder,feat_type,featdim)\n",
    "\n",
    "feat_type2 = \"fbank\"\n",
    "featdim2 = 40\n",
    "breath_fbank = {}\n",
    "breath_fbank = data_dict2(breath_fbank,feat_folder,feat_type2,featdim2)"
   ]
  },
  {
   "cell_type": "markdown",
   "metadata": {},
   "source": [
    "### Class Balancing"
   ]
  },
  {
   "cell_type": "code",
   "execution_count": null,
   "metadata": {},
   "outputs": [],
   "source": [
    "import numpy as np\n",
    "from numpy import linalg as npla\n",
    "\n",
    "def eigen(A):\n",
    "    eigenValues, eigenVectors = npla.eigh(A)\n",
    "    idx = np.argsort(eigenValues)[::-1]\n",
    "    eigenValues = eigenValues[idx]\n",
    "    eigenVectors = eigenVectors[:,idx]\n",
    "    return (eigenValues, eigenVectors)\n",
    "\n",
    "def evd(X):\n",
    "    n, m = X.shape\n",
    "    X = X-X.mean(axis=0)\n",
    "    X[np.abs(X)<1e-10] = 0\n",
    "    assert np.allclose(X.mean(axis=0), np.zeros(m))\n",
    "    C = np.dot(X.T, X) / (n)\n",
    "    eig_vals, eig_vecs = eigen(C)\n",
    "    eig_vals[np.real(eig_vals)<1e-10]=0.0\n",
    "    sing_vals = np.sqrt(eig_vals)\n",
    "    return eig_vals,sing_vals,eig_vecs\n",
    "\n",
    "def gen_coeffs(eigen_vals):\n",
    "    samples = []\n",
    "    samples = [np.random.normal(scale = eigen_vals[i]) for i in range(len(eigen_vals))]\n",
    "    return samples\n",
    "\n",
    "def get_new_samples(q,eigen_vecs):\n",
    "    s = np.zeros(len(q))\n",
    "    for i in range(len(q)):\n",
    "        s+=q[i]*eigen_vecs[:,i]\n",
    "    return s\n",
    "\n",
    "def get_new_minority_samples(major_samples,minor_samples,sample_count):\n",
    "    X1 = major_samples\n",
    "    X2 = minor_samples\n",
    "    n,m = X1.shape\n",
    "    samples = np.zeros((sample_count,m))\n",
    "    mean = X2.mean(axis=0)\n",
    "    eig_vals,sing_vals,eig_vecs=evd(X1)\n",
    "    for i in range(sample_count):\n",
    "        q = gen_coeffs(eig_vals)\n",
    "        s = get_new_samples(q,eig_vecs)\n",
    "        s+=mean\n",
    "        samples[i]+=s\n",
    "    \n",
    "    return samples\n",
    "\n",
    "def balance_dist(X,y,sample_count):\n",
    "    y = np.array(y)\n",
    "    counter = Counter(y)\n",
    "    id_neg = np.where(y==0)[0]\n",
    "    id_pos = np.where(y==1)[0]\n",
    "    y_pos =y[id_pos]\n",
    "    X_pos = X[id_pos]\n",
    "    X_neg = X[id_neg]\n",
    "    y_neg =y[id_neg]\n",
    "    new_pos = get_new_minority_samples(X_neg,X_pos,sample_count)\n",
    "    X_pos = np.concatenate((X_pos,new_pos))\n",
    "    y_pos = np.concatenate((y_pos,np.ones(sample_count)))\n",
    "    X = np.concatenate((X_pos,X_neg))\n",
    "    y = np.concatenate((y_pos,y_neg))\n",
    "#     idx = np.random.permutation(len(y))\n",
    "    idx = np.random.RandomState(seed=42).permutation(len(y))\n",
    "\n",
    "    X,y = X[idx],y[idx]\n",
    "    \n",
    "    return X,y"
   ]
  },
  {
   "cell_type": "markdown",
   "metadata": {},
   "source": [
    "### PCA"
   ]
  },
  {
   "cell_type": "code",
   "execution_count": null,
   "metadata": {},
   "outputs": [],
   "source": [
    "def dimred(train_X,val_X):\n",
    "    pca = PCA(300)\n",
    "    pca.fit(train_X)\n",
    "    train_X = pca.transform(train_X)\n",
    "    val_X = pca.transform(val_X)\n",
    "    return train_X,val_X\n",
    "\n",
    "def run_dimred(data):\n",
    "    folds = list(data.keys())\n",
    "    for i in range(0,(len(folds)-2)//2,2):\n",
    "        data[folds[i]],data[folds[i+10]]=dimred(data[folds[i]],data[folds[i+10]])\n",
    "    \n",
    "    return data"
   ]
  },
  {
   "cell_type": "markdown",
   "metadata": {},
   "source": [
    "### Classifier"
   ]
  },
  {
   "cell_type": "code",
   "execution_count": 8,
   "metadata": {},
   "outputs": [],
   "source": [
    "def score_auc(estimator, X, y):\n",
    "    y_score = estimator.decision_function(X)  # You could also use the binary predict, but probabilities should give you a more realistic score.\n",
    "    probs = y_score\n",
    "    return y_score,roc_auc_score(y, probs)\n",
    "\n",
    "def sens_spec(Conf):\n",
    "    sens = (Conf[1][1])/(Conf[1][1]+Conf[1][0])\n",
    "    spec = (Conf[0][0])/(Conf[0][1]+Conf[0][0])\n",
    "    return sens,spec\n",
    "\n",
    "def to_labels(pos_probs, threshold):\n",
    "    return (pos_probs >= threshold).astype('int')\n",
    "\n",
    "def compute_eer(fpr,tpr,thresholds):\n",
    "    fnr = 1-tpr\n",
    "#     eer_threshold=thresholds[np.argmax(np.sqrt(tpr*(1-fpr)))]\n",
    "    eer_threshold = thresholds[np.nanargmin(np.absolute((fnr - fpr)))]\n",
    "    return eer_threshold\n",
    "\n",
    "def SVM(train_X,train_Y,val_X,val_Y,C):\n",
    "    clf = svm.SVC(C=C,class_weight=\"balanced\",probability=True)\n",
    "    clf.fit(train_X,train_Y)\n",
    "    probs = clf.decision_function(val_X)\n",
    "#     probs = (probs-np.min(probs))/(np.max(probs)-np.min(probs))\n",
    "    probs = 1/(1+np.exp(-1*probs))\n",
    "    return probs\n",
    "\n",
    "def SVM1(train_X,train_Y,val_X,val_Y,C):\n",
    "    clf = svm.SVC(C=C,class_weight=\"balanced\",probability=True)\n",
    "    clf.fit(train_X,train_Y)\n",
    "    probs = clf.predict_proba(val_X)\n",
    "    return probs"
   ]
  },
  {
   "cell_type": "code",
   "execution_count": null,
   "metadata": {},
   "outputs": [],
   "source": []
  },
  {
   "cell_type": "code",
   "execution_count": null,
   "metadata": {},
   "outputs": [],
   "source": []
  },
  {
   "cell_type": "code",
   "execution_count": 9,
   "metadata": {},
   "outputs": [],
   "source": [
    "def run_SVM_CV(data,C,pred,balance=False):\n",
    "    y_hard={}\n",
    "    folds = list(data.keys())\n",
    "    for i in range(0,(len(folds)-2)//2,2):\n",
    "        if (balance==False):\n",
    "            print(\"Folds:\",i//2+1)\n",
    "            y_prob = SVM(data[folds[i]],data[folds[i+1]],data[folds[i+10]],data[folds[i+11]],C)\n",
    "            fpr, tpr, t = metrics.roc_curve(data[folds[i+11]], y_prob)\n",
    "            auc = metrics.auc(fpr,tpr)\n",
    "#             best_thresh = score(data[folds[i+11]],y_prob)\n",
    "            best_thresh =compute_eer(fpr,tpr,t) \n",
    "            hard = to_labels(y_prob,best_thresh)\n",
    "            confusion = conf(data[folds[i+11]],hard)\n",
    "            sens,spec = sens_spec(confusion)\n",
    "            print(\"Sens:\",sens,\"Spec:\",spec)\n",
    "            print(\"auc:\",auc)\n",
    "            pred[\"pred_fold_\"+str((i//2+1))] = y_prob\n",
    "            y_hard[\"hard_fold_\"+str((i//2+1))] = hard\n",
    "        else:\n",
    "            X,Y = balance_dist(data[folds[i]],data[folds[i+1]],700)\n",
    "            y_prob = SVM(X,Y,data[folds[i+10]],data[folds[i+11]],C)\n",
    "            pred[\"pred_fold_\"+str((i//2+1))] = y_prob\n",
    "    return y_hard,pred"
   ]
  },
  {
   "cell_type": "code",
   "execution_count": 10,
   "metadata": {},
   "outputs": [],
   "source": [
    "def run_SVM_eval(data,C,balance=False):\n",
    "    folds = list(data.keys())\n",
    "    if (balance==False):\n",
    "        tr_X = np.concatenate((data[folds[0]],data[folds[10]]))\n",
    "        tr_Y = np.concatenate((data[folds[1]],data[folds[11]]))\n",
    "        val_X,val_Y = data[folds[20]],data[folds[21]]\n",
    "        y_prob = SVM(tr_X,tr_Y,val_X,val_Y,C)\n",
    "\n",
    "    return val_Y,y_prob"
   ]
  },
  {
   "cell_type": "code",
   "execution_count": 11,
   "metadata": {},
   "outputs": [],
   "source": [
    "def perf_measure(y_actual, y_hat):\n",
    "    TP = 0\n",
    "    FP = 0\n",
    "    TN = 0\n",
    "    FN = 0\n",
    "\n",
    "    for i in range(len(y_hat)): \n",
    "        if y_actual[i]==y_hat[i]==1:\n",
    "            TP += 1\n",
    "        if y_hat[i]==1 and y_actual[i]!=y_hat[i]:\n",
    "            FP += 1\n",
    "        if y_actual[i]==y_hat[i]==0:\n",
    "            TN += 1\n",
    "        if y_hat[i]==0 and y_actual[i]!=y_hat[i]:\n",
    "            FN += 1\n",
    "\n",
    "    sens = TP/(TP+FN)\n",
    "    return sens\n",
    "\n",
    "\n",
    "def score(testy,probs):\n",
    "    thresholds = np.arange(-1, 1, 0.001)\n",
    "    scores = [perf_measure(testy, to_labels(probs, t)) for t in thresholds]\n",
    "    scores = np.subtract(scores,[0.8]*len(scores))\n",
    "    ix = np.argmin(np.abs(scores))\n",
    "    print(scores)\n",
    "    best_thresh = thresholds[ix]\n",
    "    return best_thresh\n",
    "    \n",
    "def sens_eighty(fpr,tpr,thresholds):\n",
    "    abs_diffs = np.argwhere(tpr==0.8)\n",
    "    min_index=abs_diffs\n",
    "    best_thresh = thresholds[min_index]\n",
    "    return best_thresh\n",
    "\n",
    "\n",
    "def avg_CV(data,data_soft):\n",
    "    folds = list(data.keys())\n",
    "    fds = list(data_soft.keys())\n",
    "    y_true = np.concatenate([data[folds[i+11]] for i in range(0,(len(folds)-2)//2,2)])\n",
    "    probs = np.concatenate([data_soft[fds[j]] for j in range(0,5)])\n",
    "    fpr, tpr, thresholds = metrics.roc_curve(y_true, probs)\n",
    "    auc = metrics.auc(fpr,tpr)\n",
    "#     best_thresh = score(y_true,probs)\n",
    "    best_thresh = compute_eer(fpr,tpr,thresholds)\n",
    "    hard = to_labels(probs,best_thresh)\n",
    "    confusion = conf(y_true,hard)\n",
    "    sens,spec = sens_spec(confusion)\n",
    "    print(\"Sens:\",sens,\"Spec:\",spec)\n",
    "    print(\"auc:\",auc)\n",
    "#     print(confusion)\n",
    "    \n",
    "    return hard,best_thresh\n",
    "\n",
    "\n",
    "\n",
    "\n",
    "def avg_eval(data,best_thresh,C,feat,data_type):\n",
    "    y_true,probs = run_SVM_eval(data,C)\n",
    "    fpr, tpr, thresholds = metrics.roc_curve(y_true, probs)\n",
    "    thresh = compute_eer(fpr,tpr,thresholds)\n",
    "    auc = metrics.auc(fpr,tpr)\n",
    "    hard = to_labels(probs,best_thresh)\n",
    "    confusion = conf(y_true,hard)\n",
    "    sens,spec = sens_spec(confusion)\n",
    "    print(\"Sens:\",sens,\"Spec:\",spec)\n",
    "    print(\"auc:\",auc)\n",
    "    print(confusion)\n",
    "    plot_roc(y_true,probs,feat,data_type)\n",
    "    return probs,hard"
   ]
  },
  {
   "cell_type": "markdown",
   "metadata": {},
   "source": [
    "## MAKE PREDICTIONS!"
   ]
  },
  {
   "cell_type": "markdown",
   "metadata": {},
   "source": [
    "### Counting-Normal"
   ]
  },
  {
   "cell_type": "code",
   "execution_count": 12,
   "metadata": {},
   "outputs": [],
   "source": [
    "count_fstats_soft={}\n",
    "count_form_soft={}\n",
    "count_harm_soft={}\n",
    "\n",
    "count_fstats_hard={}\n",
    "count_form_hard={}\n",
    "count_harm_hard={}"
   ]
  },
  {
   "cell_type": "code",
   "execution_count": 17,
   "metadata": {},
   "outputs": [
    {
     "name": "stdout",
     "output_type": "stream",
     "text": [
      "C: 0.2\n",
      "Folds: 1\n",
      "Sens: 0.6190476190476191 Spec: 0.6182795698924731\n",
      "auc: 0.6426011264720942\n",
      "Folds: 2\n",
      "Sens: 0.5714285714285714 Spec: 0.543010752688172\n",
      "auc: 0.6490015360983103\n",
      "Folds: 3\n",
      "Sens: 0.6190476190476191 Spec: 0.7043010752688172\n",
      "auc: 0.6433691756272402\n",
      "Folds: 4\n",
      "Sens: 0.7142857142857143 Spec: 0.6989247311827957\n",
      "auc: 0.6651305683563747\n",
      "Folds: 5\n",
      "Sens: 0.6666666666666666 Spec: 0.6559139784946236\n",
      "auc: 0.7037890424987199\n",
      "Sens: 0.638095238095238 Spec: 0.6376344086021506\n",
      "auc: 0.6544188428059396\n",
      "Sens: 0.7142857142857143 Spec: 0.5691489361702128\n",
      "auc: 0.6474164133738602\n",
      "[[107  81]\n",
      " [  6  15]]\n"
     ]
    },
    {
     "data": {
      "image/png": "[encoded data removed]",
      "text/plain": [
       "<Figure size 432x288 with 1 Axes>"
      ]
     },
     "metadata": {
      "needs_background": "light"
     },
     "output_type": "display_data"
    }
   ],
   "source": [
    "C=[0.2]\n",
    "for j in range(len(C)):\n",
    "    print(\"C:\",C[j])\n",
    "    count_fstats_hard,count_fstats_soft = run_SVM_CV(count_fstats,C[j],count_fstats_soft,balance=False)\n",
    "    x,count_fstats_thresh = avg_CV(count_fstats,count_fstats_soft)\n",
    "count_fstats_eval_soft,count_fstats_eval_hard=avg_eval(count_fstats,count_fstats_thresh,C[0],feat=\"fstats\",data_type=\"Counting-Normal\")"
   ]
  },
  {
   "cell_type": "code",
   "execution_count": 18,
   "metadata": {},
   "outputs": [
    {
     "name": "stdout",
     "output_type": "stream",
     "text": [
      "C: 10.0\n",
      "Folds: 1\n",
      "Sens: 0.6666666666666666 Spec: 0.6451612903225806\n",
      "auc: 0.7204301075268817\n",
      "Folds: 2\n",
      "Sens: 0.5714285714285714 Spec: 0.5860215053763441\n",
      "auc: 0.6379928315412187\n",
      "Folds: 3\n",
      "Sens: 0.6190476190476191 Spec: 0.6290322580645161\n",
      "auc: 0.6451612903225806\n",
      "Folds: 4\n",
      "Sens: 0.6190476190476191 Spec: 0.6344086021505376\n",
      "auc: 0.6164874551971327\n",
      "Folds: 5\n",
      "Sens: 0.5714285714285714 Spec: 0.521505376344086\n",
      "auc: 0.6113671274961597\n",
      "Sens: 0.6095238095238096 Spec: 0.6086021505376344\n",
      "auc: 0.6408602150537636\n",
      "Sens: 0.5238095238095238 Spec: 0.6542553191489362\n",
      "auc: 0.6519756838905775\n",
      "[[123  65]\n",
      " [ 10  11]]\n"
     ]
    },
    {
     "data": {
      "image/png": "[encoded data removed]",
      "text/plain": [
       "<Figure size 432x288 with 1 Axes>"
      ]
     },
     "metadata": {
      "needs_background": "light"
     },
     "output_type": "display_data"
    }
   ],
   "source": [
    "C=[1e1]\n",
    "for j in range(len(C)):\n",
    "    print(\"C:\",C[j])\n",
    "    count_harm_hard,count_harm_soft = run_SVM_CV(count_harm,C[j],count_harm_soft,balance=False)\n",
    "    x,count_harm_thresh = avg_CV(count_harm,count_harm_soft)\n",
    "count_harm_eval_soft,count_harm_eval_hard=avg_eval(count_harm,count_harm_thresh,C[0],feat=\"harm\",data_type=\"Counting-Normal\")"
   ]
  },
  {
   "cell_type": "code",
   "execution_count": 19,
   "metadata": {},
   "outputs": [
    {
     "name": "stdout",
     "output_type": "stream",
     "text": [
      "C: 10.0\n",
      "Folds: 1\n",
      "Sens: 0.6666666666666666 Spec: 0.6612903225806451\n",
      "auc: 0.7621607782898105\n",
      "Folds: 2\n",
      "Sens: 0.6666666666666666 Spec: 0.6881720430107527\n",
      "auc: 0.6715309779825909\n",
      "Folds: 3\n",
      "Sens: 0.6190476190476191 Spec: 0.6129032258064516\n",
      "auc: 0.6344086021505376\n",
      "Folds: 4\n",
      "Sens: 0.6190476190476191 Spec: 0.6021505376344086\n",
      "auc: 0.631336405529954\n",
      "Folds: 5\n",
      "Sens: 0.5714285714285714 Spec: 0.5752688172043011\n",
      "auc: 0.6643625192012288\n",
      "Sens: 0.6285714285714286 Spec: 0.6258064516129033\n",
      "auc: 0.666041986687148\n",
      "Sens: 0.7142857142857143 Spec: 0.6170212765957447\n",
      "auc: 0.6973150962512664\n",
      "[[116  72]\n",
      " [  6  15]]\n"
     ]
    },
    {
     "data": {
      "image/png": "[encoded data removed]",
      "text/plain": [
       "<Figure size 432x288 with 1 Axes>"
      ]
     },
     "metadata": {
      "needs_background": "light"
     },
     "output_type": "display_data"
    }
   ],
   "source": [
    "C=[1e1]\n",
    "for j in range(len(C)):\n",
    "    print(\"C:\",C[j])\n",
    "    count_form_hard,count_form_soft = run_SVM_CV(count_form,C[j],count_form_soft,balance=False)\n",
    "    x,count_form_thresh = avg_CV(count_form,count_form_soft)\n",
    "    \n",
    "count_form_eval_soft,count_form_eval_hard=avg_eval(count_form,count_form_thresh,C[0],feat=\"form\",data_type=\"Counting-Normal\")"
   ]
  },
  {
   "cell_type": "code",
   "execution_count": 20,
   "metadata": {},
   "outputs": [],
   "source": [
    "vowel_form_soft = {}\n",
    "vowel_harm_soft = {}\n",
    "vowel_fbank_soft = {}\n",
    "\n",
    "vowel_form_hard = {}\n",
    "vowel_harm_hard = {}\n",
    "vowel_fbank_hard = {}"
   ]
  },
  {
   "cell_type": "code",
   "execution_count": 21,
   "metadata": {},
   "outputs": [
    {
     "name": "stdout",
     "output_type": "stream",
     "text": [
      "C: 3500\n",
      "Folds: 1\n",
      "Sens: 0.6190476190476191 Spec: 0.6129032258064516\n",
      "auc: 0.6776753712237583\n",
      "Folds: 2\n",
      "Sens: 0.5714285714285714 Spec: 0.5860215053763441\n",
      "auc: 0.631336405529954\n",
      "Folds: 3\n",
      "Sens: 0.6190476190476191 Spec: 0.6344086021505376\n",
      "auc: 0.6187916026625703\n",
      "Folds: 4\n",
      "Sens: 0.6666666666666666 Spec: 0.6666666666666666\n",
      "auc: 0.6963645673323093\n",
      "Folds: 5\n",
      "Sens: 0.47619047619047616 Spec: 0.4946236559139785\n",
      "auc: 0.5307219662058371\n",
      "Sens: 0.6 Spec: 0.6021505376344086\n",
      "auc: 0.6317255504352279\n",
      "Sens: 0.5714285714285714 Spec: 0.5159574468085106\n",
      "auc: 0.6005572441742655\n",
      "[[97 91]\n",
      " [ 9 12]]\n"
     ]
    },
    {
     "data": {
      "image/png": "[encoded data removed]",
      "text/plain": [
       "<Figure size 432x288 with 1 Axes>"
      ]
     },
     "metadata": {
      "needs_background": "light"
     },
     "output_type": "display_data"
    }
   ],
   "source": [
    "C=[3500]\n",
    "for j in range(len(C)):\n",
    "    print(\"C:\",C[j])\n",
    "    vowel_harm_hard,vowel_harm_soft = run_SVM_CV(vowel_harm,C[j],vowel_harm_soft,balance=False)\n",
    "    x,vowel_harm_thresh = avg_CV(vowel_harm,vowel_harm_soft)\n",
    "vowel_harm_eval_soft,vowel_harm_eval_hard=avg_eval(vowel_harm,vowel_harm_thresh,C[0],feat=\"harm\",data_type=\"Vowel-/i/\")"
   ]
  },
  {
   "cell_type": "code",
   "execution_count": 22,
   "metadata": {},
   "outputs": [
    {
     "name": "stdout",
     "output_type": "stream",
     "text": [
      "C: 0.5\n",
      "Folds: 1\n",
      "Sens: 0.5714285714285714 Spec: 0.5860215053763441\n",
      "auc: 0.6564260112647209\n",
      "Folds: 2\n",
      "Sens: 0.5714285714285714 Spec: 0.5268817204301075\n",
      "auc: 0.6664106502816179\n",
      "Folds: 3\n",
      "Sens: 0.7142857142857143 Spec: 0.7365591397849462\n",
      "auc: 0.721710189452125\n",
      "Folds: 4\n",
      "Sens: 0.5714285714285714 Spec: 0.5752688172043011\n",
      "auc: 0.6131592421915003\n",
      "Folds: 5\n",
      "Sens: 0.5238095238095238 Spec: 0.5161290322580645\n",
      "auc: 0.558115719406042\n",
      "Sens: 0.5904761904761905 Spec: 0.5741935483870968\n",
      "auc: 0.6317972350230414\n",
      "Sens: 0.5714285714285714 Spec: 0.5957446808510638\n",
      "auc: 0.5901722391084093\n",
      "[[112  76]\n",
      " [  9  12]]\n"
     ]
    },
    {
     "data": {
      "image/png": "[encoded data removed]",
      "text/plain": [
       "<Figure size 432x288 with 1 Axes>"
      ]
     },
     "metadata": {
      "needs_background": "light"
     },
     "output_type": "display_data"
    }
   ],
   "source": [
    "C=[0.5]\n",
    "for j in range(len(C)):\n",
    "    print(\"C:\",C[j])\n",
    "    vowel_form_hard,vowel_form_soft = run_SVM_CV(vowel_form,C[j],vowel_form_soft,balance=False)\n",
    "    x,vowel_form_thresh = avg_CV(vowel_form,vowel_form_soft)\n",
    "vowel_form_eval_soft,vowel_form_eval_hard = avg_eval(vowel_form,vowel_form_thresh,C[0],feat=\"form\",data_type=\"Vowel-/i/\")"
   ]
  },
  {
   "cell_type": "code",
   "execution_count": 23,
   "metadata": {},
   "outputs": [
    {
     "name": "stdout",
     "output_type": "stream",
     "text": [
      "C: 1\n",
      "Folds: 1\n",
      "Sens: 0.6666666666666666 Spec: 0.6720430107526881\n",
      "auc: 0.7178699436763952\n",
      "Folds: 2\n",
      "Sens: 0.6190476190476191 Spec: 0.6505376344086021\n",
      "auc: 0.6833077316948285\n",
      "Folds: 3\n",
      "Sens: 0.6666666666666666 Spec: 0.6774193548387096\n",
      "auc: 0.7327188940092165\n",
      "Folds: 4\n",
      "Sens: 0.6190476190476191 Spec: 0.6397849462365591\n",
      "auc: 0.655657962109575\n",
      "Folds: 5\n",
      "Sens: 0.6190476190476191 Spec: 0.6182795698924731\n",
      "auc: 0.6400409626216078\n",
      "Sens: 0.6476190476190476 Spec: 0.6494623655913978\n",
      "auc: 0.6874859190988224\n",
      "Sens: 0.47619047619047616 Spec: 0.6223404255319149\n",
      "auc: 0.6030901722391084\n",
      "[[117  71]\n",
      " [ 11  10]]\n"
     ]
    },
    {
     "data": {
      "image/png": "[encoded data removed]",
      "text/plain": [
       "<Figure size 432x288 with 1 Axes>"
      ]
     },
     "metadata": {
      "needs_background": "light"
     },
     "output_type": "display_data"
    }
   ],
   "source": [
    "C=[1]\n",
    "for j in range(len(C)):\n",
    "    print(\"C:\",C[j])\n",
    "    vowel_fbank_hard,vowel_fbank_soft = run_SVM_CV(vowel_fbank,C[j],vowel_fbank_soft,balance=False)\n",
    "    x,vowel_fbank_thresh = avg_CV(vowel_fbank,vowel_fbank_soft)\n",
    "vowel_fbank_eval_soft,vowel_fbank_eval_hard=avg_eval(vowel_fbank,vowel_fbank_thresh,C[0],feat=\"fbank\",data_type=\"Vowel-/i/\")"
   ]
  },
  {
   "cell_type": "code",
   "execution_count": 24,
   "metadata": {},
   "outputs": [],
   "source": [
    "breath_form_soft={}\n",
    "breath_form_hard={}\n",
    "breath_fbank_soft={}\n",
    "breath_fbank_hard={}"
   ]
  },
  {
   "cell_type": "code",
   "execution_count": 25,
   "metadata": {},
   "outputs": [
    {
     "name": "stdout",
     "output_type": "stream",
     "text": [
      "C: 30\n",
      "Folds: 1\n",
      "Sens: 0.5714285714285714 Spec: 0.5806451612903226\n",
      "auc: 0.6129032258064515\n",
      "Folds: 2\n",
      "Sens: 0.5714285714285714 Spec: 0.532258064516129\n",
      "auc: 0.5890937019969278\n",
      "Folds: 3\n",
      "Sens: 0.5238095238095238 Spec: 0.5698924731182796\n",
      "auc: 0.6298003072196621\n",
      "Folds: 4\n",
      "Sens: 0.5714285714285714 Spec: 0.5376344086021505\n",
      "auc: 0.6349206349206349\n",
      "Folds: 5\n",
      "Sens: 0.5238095238095238 Spec: 0.4838709677419355\n",
      "auc: 0.5873015873015873\n",
      "Sens: 0.5714285714285714 Spec: 0.5720430107526882\n",
      "auc: 0.6086635944700461\n",
      "Sens: 0.5714285714285714 Spec: 0.5\n",
      "auc: 0.6127152988855116\n",
      "[[94 94]\n",
      " [ 9 12]]\n"
     ]
    },
    {
     "data": {
      "image/png": "[encoded data removed]",
      "text/plain": [
       "<Figure size 432x288 with 1 Axes>"
      ]
     },
     "metadata": {
      "needs_background": "light"
     },
     "output_type": "display_data"
    }
   ],
   "source": [
    "C=[30]\n",
    "for j in range(len(C)):\n",
    "    print(\"C:\",C[j])\n",
    "    breath_fbank_hard,breath_fbank_soft = run_SVM_CV(breath_fbank,C[j],breath_fbank_soft,balance=False)\n",
    "    x,breath_fbank_thresh = avg_CV(breath_fbank,breath_fbank_soft)\n",
    "breath_fbank_eval_soft,breath_fbank_eval_hard=avg_eval(breath_fbank,breath_fbank_thresh,C[0],feat=\"fbank\",data_type=\"Vowel-/i/\")"
   ]
  },
  {
   "cell_type": "code",
   "execution_count": 26,
   "metadata": {},
   "outputs": [
    {
     "name": "stdout",
     "output_type": "stream",
     "text": [
      "C: 1\n",
      "Folds: 1\n",
      "Sens: 0.6666666666666666 Spec: 0.6666666666666666\n",
      "auc: 0.7114695340501792\n",
      "Folds: 2\n",
      "Sens: 0.6190476190476191 Spec: 0.5967741935483871\n",
      "auc: 0.5911418330773169\n",
      "Folds: 3\n",
      "Sens: 0.6666666666666666 Spec: 0.6451612903225806\n",
      "auc: 0.7268305171530978\n",
      "Folds: 4\n",
      "Sens: 0.6190476190476191 Spec: 0.6505376344086021\n",
      "auc: 0.6746031746031746\n",
      "Folds: 5\n",
      "Sens: 0.6190476190476191 Spec: 0.553763440860215\n",
      "auc: 0.6863799283154122\n",
      "Sens: 0.6095238095238096 Spec: 0.6172043010752688\n",
      "auc: 0.6736815156169994\n",
      "Sens: 0.5714285714285714 Spec: 0.7553191489361702\n",
      "auc: 0.7018743667679838\n",
      "[[142  46]\n",
      " [  9  12]]\n"
     ]
    },
    {
     "data": {
      "image/png": "[encoded data removed]",
      "text/plain": [
       "<Figure size 432x288 with 1 Axes>"
      ]
     },
     "metadata": {
      "needs_background": "light"
     },
     "output_type": "display_data"
    }
   ],
   "source": [
    "C=[1]\n",
    "for j in range(len(C)):\n",
    "    print(\"C:\",C[j])\n",
    "    breath_form_hard,breath_form_soft = run_SVM_CV(breath_form,C[j],breath_form_soft,balance=False)\n",
    "    x,breath_form_thresh = avg_CV(breath_form,breath_form_soft)\n",
    "breath_form_eval_soft,breath_form_eval_hard=avg_eval(breath_form,breath_form_thresh,C[0],feat=\"fbank\",data_type=\"Vowel-/i/\")"
   ]
  },
  {
   "cell_type": "code",
   "execution_count": 14,
   "metadata": {},
   "outputs": [],
   "source": [
    "import sklearn.metrics as metrics\n",
    "import matplotlib.pyplot as plt\n",
    "\n",
    "def plot_roc(y_test,preds,feat,data_type):\n",
    "    fpr, tpr, threshold = metrics.roc_curve(y_test, preds)\n",
    "    roc_auc = metrics.auc(fpr, tpr)\n",
    "    plt.title(data_type+' ROC')\n",
    "    plt.plot([0, 1], [0, 1],'r--')\n",
    "    plt.xlim([0, 1])\n",
    "    plt.ylim([0, 1])\n",
    "    plt.ylabel('True Positive Rate')\n",
    "    plt.xlabel('False Positive Rate')\n",
    "    plt.plot(fpr, tpr, label = feat+', AUC=%0.3f' % roc_auc)\n",
    "    plt.legend(loc = 'lower right')\n",
    "    return"
   ]
  },
  {
   "cell_type": "code",
   "execution_count": 15,
   "metadata": {},
   "outputs": [],
   "source": [
    "def auc_avg_CV(data,data_pred,feat,data_type):\n",
    "    folds = list(data.keys())\n",
    "    fds = list(data_pred.keys())\n",
    "    X = np.concatenate([data[folds[i+11]] for i in range(0,(len(folds)-2)//2,2)])\n",
    "    Y = np.concatenate([data_pred[fds[j]] for j in range(0,5)])\n",
    "    plot_roc(X,Y,feat,data_type)\n",
    "    return\n",
    "def auc_eval(data,pred,feat,data_type):\n",
    "    folds = list(data.keys())\n",
    "    X = data[folds[21]]\n",
    "    Y = pred\n",
    "    plot_roc(X,Y,feat,data_type)\n",
    "    return\n",
    "\n",
    "def avg_CV_eval(data,pred,feat,data_type):\n",
    "    folds = list(data.keys())\n",
    "    X = data[folds[21]]\n",
    "    Y = pred\n",
    "#     confusion = conf(X,Y)\n",
    "#     sens,spec = sens_spec(confusion)\n",
    "#     print(\"Sens:\",sens,\"Spec:\",spec)\n",
    "#     print(confusion)\n",
    "    plot_roc(X,Y,feat,data_type)\n",
    "    return\n",
    "\n",
    "def avg_CV1(data,data_pred,feat,data_type):\n",
    "    folds = list(data.keys())\n",
    "    fds = list(data_pred.keys())\n",
    "    X = np.concatenate([data[folds[i+11]] for i in range(0,(len(folds)-2)//2,2)])\n",
    "    Y = np.concatenate([data_pred[fds[j]] for j in range(0,5)])\n",
    "#     confusion = conf(X,Y)\n",
    "#     auc = metrics.auc(X,Y)\n",
    "    fpr, tpr, thresholds = metrics.roc_curve(X,Y)\n",
    "    auc = metrics.auc(fpr,tpr)\n",
    "#     sens,spec = sens_spec(confusion)\n",
    "#     print(\"Sens:\",sens,\"Spec:\",spec)\n",
    "#     print(confusion)\n",
    "    print(\"AUC:\",auc)\n",
    "    plot_roc(X,Y,feat,data_type)\n",
    "    return auc\n",
    "\n",
    "def avg_CV2(data,data_soft,C):\n",
    "    folds = list(data.keys())\n",
    "    fds = list(data_pred.keys())\n",
    "    X = np.concatenate([data[folds[i+11]] for i in range(0,(len(folds)-2)//2,2)])\n",
    "    Y = np.concatenate([data_soft[fds[j]] for j in range(0,5)])\n",
    "    probs = Y\n",
    "    fpr, tpr, thresholds = metrics.roc_curve(X, probs)\n",
    "    auc = metrics.auc(fpr,tpr)\n",
    "    J = tpr-fpr\n",
    "    ix = np.argmax(J)\n",
    "    best_thresh = thresholds[ix]\n",
    "    probs = to_labels(probs,best_thresh)\n",
    "    confusion = conf(X,probs)\n",
    "    sens,spec = sens_spec(confusion)\n",
    "    print(\"Sens:\",sens,\"Spec:\",spec)\n",
    "    print(\"auc:\",auc)\n",
    "#     print(confusion)\n",
    "    \n",
    "    return best_thresh"
   ]
  },
  {
   "cell_type": "code",
   "execution_count": null,
   "metadata": {},
   "outputs": [],
   "source": [
    "data_type = 'Counting-Normal'\n",
    "auc_avg_CV(count_fstats,count_fstats_soft,feat='supervectors_CV',data_type=data_type)\n",
    "auc_eval(count_fstats,count_fstats_eval_soft,feat='supervectors_eval',data_type=data_type)\n",
    "auc_avg_CV(count_form,count_form_soft,feat='formants_CV',data_type=data_type)\n",
    "auc_eval(count_form,count_form_eval_soft,feat='formants_eval',data_type=data_type)\n",
    "auc_avg_CV(count_harm,count_harm_soft,feat='harmonics_CV',data_type=data_type)\n",
    "auc_eval(count_harm,count_harm_eval_soft,feat='harmonics_eval',data_type=data_type)"
   ]
  },
  {
   "cell_type": "code",
   "execution_count": null,
   "metadata": {},
   "outputs": [],
   "source": [
    "data_type = 'Vowel-/i/'\n",
    "auc_avg_CV(vowel_fbank,vowel_fbank_soft,feat='fbank_CV',data_type=data_type)\n",
    "auc_eval(vowel_fbank,vowel_fbank_eval_soft,feat='fbank_eval',data_type=data_type)\n",
    "\n",
    "auc_avg_CV(vowel_form,vowel_form_soft,feat='formants_CV',data_type=data_type)\n",
    "auc_eval(vowel_form,vowel_form_eval_soft,feat='formants_eval',data_type=data_type)\n",
    "\n",
    "auc_avg_CV(vowel_harm,vowel_harm_soft,feat='harmonics_CV',data_type=data_type)\n",
    "auc_eval(vowel_harm,vowel_harm_eval_soft,feat='harmonics_eval',data_type=data_type)"
   ]
  },
  {
   "cell_type": "code",
   "execution_count": null,
   "metadata": {},
   "outputs": [],
   "source": [
    "data_type = 'Breathing-Deep'\n",
    "auc_avg_CV(breath_form,breath_form_soft,feat='formants_CV',data_type=data_type)\n",
    "auc_eval(breath_form,breath_form_eval_soft,feat='formants_eval',data_type=data_type)\n",
    "auc_avg_CV(breath_fbank,breath_fbank_soft,feat='fbank_CV',data_type=data_type)\n",
    "auc_eval(breath_fbank,breath_fbank_eval_soft,feat='fbank_eval',data_type=data_type)"
   ]
  },
  {
   "cell_type": "code",
   "execution_count": 16,
   "metadata": {},
   "outputs": [],
   "source": [
    "def run_maxvoting(data1,data2,data3):\n",
    "    pred={}\n",
    "    folds = list(data2.keys())\n",
    "#     print(folds[0])\n",
    "    for i in range(len(folds)):\n",
    "        pred1 = data1[folds[i]]\n",
    "        pred2 = data2[folds[i]]\n",
    "        pred3 = data3[folds[i]]\n",
    "        pred[folds[i]] = (data1[folds[i]]+data2[folds[i]]+data3[folds[i]])\n",
    "    return pred\n",
    "\n",
    "def run_maxvoting2(data1,data2,data3,data4,data5,data6):\n",
    "    pred={}\n",
    "    folds = list(data2.keys())\n",
    "#     print(folds[0])\n",
    "    for i in range(len(folds)):\n",
    "        pred1 = data1[folds[i]]\n",
    "        pred2 = data2[folds[i]]\n",
    "        pred3 = data3[folds[i]]\n",
    "        pred4 = data4[folds[i]]\n",
    "        pred5 = data5[folds[i]]\n",
    "        pred6 = data6[folds[i]]\n",
    "        pred[folds[i]] = (pred1+pred2+pred3+pred4+pred5+pred6)/6\n",
    "    return pred\n",
    "\n",
    "\n",
    "def run_maxvoting1(data1,data2):\n",
    "    pred={}\n",
    "    folds = list(data1.keys())\n",
    "    for i in range(len(folds)):\n",
    "        pred1 = data1[folds[i]]\n",
    "        pred2 = data2[folds[i]]\n",
    "        pred[folds[i]] = (pred1+pred2)/2\n",
    "        \n",
    "    return pred\n",
    "\n",
    "def run_maxvoting_eval1(data1,data2,data3):\n",
    "    pred = (data1+data2+data3)\n",
    "    return pred\n",
    "\n",
    "def run_maxvoting_eval2(data1,data2):\n",
    "    pred = (data1+data2)/2\n",
    "    return pred\n",
    "\n",
    "def run_maxvoting_eval(data1,data2,data3,data4,data5,data6):\n",
    "    pred = (data1+data2+data3+data4+data5+data6)/6\n",
    "    return pred\n",
    "\n",
    "def threshold(pred):\n",
    "    folds = list(pred.keys())\n",
    "    for i in range(len(folds)):\n",
    "        a = pred[folds[i]]\n",
    "        a[a<3] = 0\n",
    "        a[a>3] = 1\n",
    "        a[a==3] = np.random.choice([0,1])\n",
    "        pred[folds[i]] = a\n",
    "    return pred\n",
    "\n",
    "def thresh2(pred):\n",
    "    folds = list(pred.keys())\n",
    "    for i in range(len(folds)):\n",
    "        a = pred[folds[i]]\n",
    "        a[a<=1] = 0\n",
    "        a[a>1] = 1\n",
    "        pred[folds[i]] = a\n",
    "        \n",
    "    return pred\n",
    "\n",
    "def thresh_eval(t,pred):\n",
    "    a = pred\n",
    "    a[a<t] = 0\n",
    "    a[a>t] = 1\n",
    "    a[a==t] = np.random.choice([0,1])\n",
    "    \n",
    "    pred = a\n",
    "        \n",
    "    return pred\n",
    "\n",
    "def thresh_eval1(pred):\n",
    "    a = pred\n",
    "    a[a<=1] = 0\n",
    "    a[a>1] = 1\n",
    "    \n",
    "    pred = a\n",
    "        \n",
    "    return pred\n",
    "\n",
    "def maxvote1(hard1,hard2,hard3):\n",
    "    pred={}\n",
    "    pred = run_maxvoting(hard1,hard2,hard3)\n",
    "    fds = list(pred.keys())\n",
    "    x = pred\n",
    "#     for i in range(1,6):\n",
    "#         print(conf(vowel_fbank[\"val\"+str(i)+\"_Y\"],x[fds[i-1]]))\n",
    "        \n",
    "    return x\n",
    "\n",
    "def maxvote3(hard1,hard2):\n",
    "    pred={}\n",
    "    pred = run_maxvoting1(hard1,hard2)\n",
    "    fds = list(pred.keys())\n",
    "    x = pred\n",
    "#     for i in range(1,6):\n",
    "#         print(conf(vowel_fbank[\"val\"+str(i)+\"_Y\"],x[fds[i-1]]))\n",
    "        \n",
    "    return x\n",
    "\n",
    "def maxvote2(hard1,hard2,hard3,hard4,hard5,hard6):\n",
    "    pred={}\n",
    "    pred = run_maxvoting2(hard1,hard2,hard3,hard4,hard5,hard6)\n",
    "    fds = list(pred.keys())\n",
    "#     x = threshold(pred)\n",
    "#     for i in range(1,6):\n",
    "#         print(conf(vowel_fbank[\"val\"+str(i)+\"_Y\"],x[fds[i-1]]))\n",
    "    x = pred\n",
    "        \n",
    "    return x\n",
    "\n",
    "def maxvote_eval1(hard1,hard2,hard3):\n",
    "    pred = run_maxvoting_eval1(hard1,hard2,hard3)\n",
    "#     x = thresh_eval1(pred)\n",
    "    x = pred\n",
    "    return x\n",
    "\n",
    "def maxvote_eval3(hard1,hard2):\n",
    "    pred = run_maxvoting_eval2(hard1,hard2)\n",
    "#     x = thresh_eval1(pred)\n",
    "    x = pred\n",
    "    return x\n",
    "\n",
    "def maxvote_eval(hard1,hard2,hard3,hard4,hard5,hard6):\n",
    "    pred = run_maxvoting_eval(hard1,hard2,hard3,hard4,hard5,hard6)\n",
    "#     x = thresh_eval(3,pred)\n",
    "    x = pred\n",
    "    return x\n",
    "\n",
    "def avgCV_vote(hard1,hard2,hard3,hard4,hard5):\n",
    "    pred={}\n",
    "    pred = run_maxvoting(hard1,hard2,hard3)\n",
    "    fds = list(pred.keys())"
   ]
  },
  {
   "cell_type": "code",
   "execution_count": 27,
   "metadata": {},
   "outputs": [
    {
     "name": "stdout",
     "output_type": "stream",
     "text": [
      "AUC: 0.6817716333845366\n"
     ]
    },
    {
     "data": {
      "image/png": "[encoded data removed]",
      "text/plain": [
       "<Figure size 432x288 with 1 Axes>"
      ]
     },
     "metadata": {
      "needs_background": "light"
     },
     "output_type": "display_data"
    }
   ],
   "source": [
    "x1 = maxvote1(vowel_form_soft,vowel_harm_soft,vowel_fbank_soft)\n",
    "conf1 = avg_CV1(vowel_form,x1,feat=\"Combined_Breath_Eval\",data_type=\"Breathing-Deep\")"
   ]
  },
  {
   "cell_type": "code",
   "execution_count": 28,
   "metadata": {},
   "outputs": [
    {
     "name": "stdout",
     "output_type": "stream",
     "text": [
      "AUC: 0.6683563748079877\n"
     ]
    },
    {
     "data": {
      "image/png": "[encoded data removed]",
      "text/plain": [
       "<Figure size 432x288 with 1 Axes>"
      ]
     },
     "metadata": {
      "needs_background": "light"
     },
     "output_type": "display_data"
    }
   ],
   "source": [
    "x7 = maxvote3(breath_form_soft,breath_fbank_soft)\n",
    "conf7 = avg_CV1(breath_form,x7,feat=\"Combined_Breath_CV\",data_type = \"Breathing-Deep\")\n",
    "x8 = maxvote_eval3(breath_form_eval_soft,breath_fbank_eval_soft)\n",
    "conf8 = avg_CV_eval(breath_form,x8,feat=\"Combined_Breath_Eval\",data_type=\"Breathing-Deep\")"
   ]
  },
  {
   "cell_type": "code",
   "execution_count": null,
   "metadata": {},
   "outputs": [],
   "source": []
  },
  {
   "cell_type": "code",
   "execution_count": null,
   "metadata": {},
   "outputs": [],
   "source": [
    "x2 = maxvote1(count_form_soft,count_harm_soft,count_fstats_soft)\n",
    "conf2 = avg_CV1(count_harm,x2,feat=\"Combined_Breath_Eval\",data_type=\"Breathing-Deep\")"
   ]
  },
  {
   "cell_type": "code",
   "execution_count": 29,
   "metadata": {},
   "outputs": [
    {
     "name": "stdout",
     "output_type": "stream",
     "text": [
      "AUC: 0.7373067076292883\n"
     ]
    },
    {
     "data": {
      "image/png": "[encoded data removed]",
      "text/plain": [
       "<Figure size 432x288 with 1 Axes>"
      ]
     },
     "metadata": {
      "needs_background": "light"
     },
     "output_type": "display_data"
    }
   ],
   "source": [
    "x3 = maxvote2(vowel_form_soft,vowel_fbank_soft,breath_form_soft,breath_fbank_soft,count_form_soft,count_fstats_soft)\n",
    "conf3 = avg_CV1(vowel_form,x3,feat=\"Speaker_Level_CV\",data_type=\"Speaker_Level\")\n",
    "x5 = maxvote_eval(vowel_form_eval_soft,vowel_fbank_eval_soft,breath_form_eval_soft,breath_fbank_eval_soft,count_form_eval_soft,count_fstats_eval_soft)\n",
    "conf5 = avg_CV_eval(vowel_form,x5,feat=\"Speaker_Level_Eval\",data_type=\"Speaker_Level\")"
   ]
  },
  {
   "cell_type": "code",
   "execution_count": 31,
   "metadata": {},
   "outputs": [
    {
     "data": {
      "text/plain": [
       "array([0.49913335, 0.27129419, 0.41147918, 0.64325878, 0.28754331,\n",
       "       0.51250532, 0.28799735, 0.22146228, 0.34172776, 0.71909844,\n",
       "       0.31235336, 0.41570678, 0.41543357, 0.27851114, 0.45981784,\n",
       "       0.53246666, 0.34130536, 0.49712356, 0.38235031, 0.40990057,\n",
       "       0.34987018, 0.29082287, 0.21488057, 0.30161955, 0.49729872,\n",
       "       0.55588269, 0.18795956, 0.29474686, 0.63570523, 0.32378347,\n",
       "       0.37495862, 0.21358695, 0.24414644, 0.46973697, 0.50282528,\n",
       "       0.19046382, 0.56639975, 0.39209771, 0.58831907, 0.63692583,\n",
       "       0.64834912, 0.50976116, 0.40823923, 0.56474234, 0.24112797,\n",
       "       0.57919156, 0.65541974, 0.43531984, 0.49804433, 0.19470314,\n",
       "       0.29487668, 0.33940354, 0.52592541, 0.58230427, 0.47793343,\n",
       "       0.52201206, 0.45944317, 0.5280875 , 0.28722125, 0.47147215,\n",
       "       0.20057983, 0.54150086, 0.3223813 , 0.3681097 , 0.4574097 ,\n",
       "       0.62600992, 0.37019473, 0.2619476 , 0.49632983, 0.25435763,\n",
       "       0.46542807, 0.3902692 , 0.14476743, 0.24191336, 0.53176016,\n",
       "       0.20483173, 0.61333804, 0.61968447, 0.59400619, 0.47103051,\n",
       "       0.70683854, 0.30927376, 0.71786798, 0.2860752 , 0.48628746,\n",
       "       0.67724241, 0.29549061, 0.49659637, 0.40559408, 0.51284625,\n",
       "       0.58982348, 0.32811298, 0.63567424, 0.28908979, 0.52589595,\n",
       "       0.59581542, 0.28380157, 0.46546319, 0.38197737, 0.57251033,\n",
       "       0.53945319, 0.57251585, 0.23515878, 0.24954045, 0.62833715,\n",
       "       0.18711248, 0.32829495, 0.60682034, 0.18160722, 0.44193793,\n",
       "       0.33008125, 0.35985323, 0.4074666 , 0.47205532, 0.72935358,\n",
       "       0.56984439, 0.51298931, 0.2814065 , 0.30079226, 0.3003384 ,\n",
       "       0.75930481, 0.25546427, 0.36386577, 0.63197774, 0.58713931,\n",
       "       0.33953137, 0.47625193, 0.26410374, 0.60928591, 0.4591108 ,\n",
       "       0.68844136, 0.39648271, 0.81120341, 0.65577624, 0.79875905,\n",
       "       0.81115561, 0.39117751, 0.55769848, 0.25468993, 0.60062669,\n",
       "       0.55625628, 0.34257741, 0.53007515, 0.52673223, 0.72029948,\n",
       "       0.1871907 , 0.61453561, 0.70220956, 0.38344159, 0.43515577,\n",
       "       0.5874021 , 0.55710059, 0.43671348, 0.26199448, 0.30803662,\n",
       "       0.38505285, 0.40568558, 0.41729046, 0.56264245, 0.36960133,\n",
       "       0.36657459, 0.61568891, 0.5746476 , 0.49975293, 0.42951585,\n",
       "       0.20985869, 0.22872145, 0.68350818, 0.37189979, 0.34666403,\n",
       "       0.46530885, 0.61898651, 0.37771555, 0.40817173, 0.39835769,\n",
       "       0.4576943 , 0.5298179 , 0.43509438, 0.41897437, 0.29520762,\n",
       "       0.45471193, 0.64929678, 0.35855473, 0.32993434, 0.42017733,\n",
       "       0.50847145, 0.22341434, 0.44888722, 0.28519891, 0.36867704,\n",
       "       0.78465692, 0.67084718, 0.51894349, 0.74844027, 0.66443828,\n",
       "       0.6956729 , 0.32382092, 0.44039159, 0.33326612, 0.59158925,\n",
       "       0.54222286, 0.60616109, 0.26531283, 0.32499161, 0.50790428,\n",
       "       0.6605854 , 0.46281925, 0.62492669, 0.75535232])"
      ]
     },
     "execution_count": 31,
     "metadata": {},
     "output_type": "execute_result"
    }
   ],
   "source": [
    "vowel_form_eval_soft"
   ]
  },
  {
   "cell_type": "code",
   "execution_count": null,
   "metadata": {},
   "outputs": [],
   "source": [
    "x4 = maxvote_eval1(vowel_form_eval_soft,vowel_harm_eval_soft,vowel_fbank_eval_soft)\n",
    "conf4 = avg_CV_eval(vowel_form,x4,feat=\"Combined\",data_type='vowel-e')"
   ]
  },
  {
   "cell_type": "code",
   "execution_count": null,
   "metadata": {},
   "outputs": [],
   "source": [
    "x6 = maxvote_eval1(count_fstats_eval_soft,count_form_eval_soft,count_harm_eval_soft)\n",
    "conf6 = avg_CV_eval(count_harm,x6,feat=\"Combined\",data_type='counting-normal')"
   ]
  },
  {
   "cell_type": "code",
   "execution_count": null,
   "metadata": {},
   "outputs": [],
   "source": [
    "x6 = maxvote_eval1(count_fstats_eval_hard,count_form_eval_hard,count_harm_eval_hard)\n",
    "conf6 = avg_CV_eval(count_harm,x6,feat=\"Combined\",data_type='counting-normal')"
   ]
  },
  {
   "cell_type": "code",
   "execution_count": null,
   "metadata": {},
   "outputs": [],
   "source": []
  }
 ],
 "metadata": {
  "kernelspec": {
   "display_name": "Python 3",
   "language": "python",
   "name": "python3"
  },
  "language_info": {
   "codemirror_mode": {
    "name": "ipython",
    "version": 3
   },
   "file_extension": ".py",
   "mimetype": "text/x-python",
   "name": "python",
   "nbconvert_exporter": "python",
   "pygments_lexer": "ipython3",
   "version": "3.8.5"
  }
 },
 "nbformat": 4,
 "nbformat_minor": 4
}
